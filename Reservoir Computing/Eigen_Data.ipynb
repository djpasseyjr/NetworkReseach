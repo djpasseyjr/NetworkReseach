{
 "cells": [
  {
   "cell_type": "markdown",
   "metadata": {},
   "source": [
    "## Eigenvalues and Angles Between Eigenvectors"
   ]
  },
  {
   "cell_type": "code",
   "execution_count": 5,
   "metadata": {},
   "outputs": [],
   "source": [
    "from res_specialization import *\n",
    "from matplotlib import pyplot as plt\n",
    "plt.rcParams['figure.figsize'] = [10, 5]\n"
   ]
  },
  {
   "cell_type": "code",
   "execution_count": 6,
   "metadata": {},
   "outputs": [],
   "source": [
    "TOL = 5\n",
    "NUM_TO_SPEC = 10\n",
    "diff_eq_params = {\"x0\": [-20, 10, -.5], \n",
    "                  \"begin\": 0, \n",
    "                  \"end\": 60, \n",
    "                  \"timesteps\":60000}\n",
    "\n",
    "res_params = {\"res_sz\": 30, \n",
    "              \"activ_f\": np.tanh,\n",
    "              \"connect_p\": .08, \n",
    "              \"ridge_alpha\": .00001, \n",
    "              \"spect_rad\": .9, \n",
    "              \"gamma\": 1., \n",
    "              \"sigma\": 0.12,\n",
    "              \"uniform_weights\": True,\n",
    "              \"solver\": \"least squares\"\n",
    "             }\n",
    "\n",
    "t, train_t, u = lorenz_equ(**diff_eq_params )\n",
    "train_t = t[30000:55000]\n",
    "test_t  = t[55000:]"
   ]
  },
  {
   "cell_type": "code",
   "execution_count": 7,
   "metadata": {},
   "outputs": [],
   "source": [
    "def evec_angles(A):\n",
    "    Q = np.linalg.eig(A)[1]\n",
    "    angles = np.tril(Q.conj().T.dot(Q))\n",
    "    angles = angles[np.tril_indices(A.shape[0], k=-1)]\n",
    "    return abs(angles)\n",
    "# end"
   ]
  },
  {
   "cell_type": "code",
   "execution_count": 8,
   "metadata": {},
   "outputs": [
    {
     "name": "stdout",
     "output_type": "stream",
     "text": [
      "Rand err: 1.007878122601872\n",
      "Rand pre: 705\n",
      "Spec Err: 0.0982939904589304\n",
      "Spec Pre: 776\n",
      "Ctrl Err: 0.1102420948724651\n",
      "Ctrl Pre: 770\n",
      "Ctrl Number of Components: 38\n"
     ]
    },
    {
     "data": {
      "image/png": "[encoded data removed]",
      "text/plain": [
       "<Figure size 720x360 with 6 Axes>"
      ]
     },
     "metadata": {
      "needs_background": "light"
     },
     "output_type": "display_data"
    }
   ],
   "source": [
    "# Make rc\n",
    "rc = ResComp(3,3,**res_params)\n",
    "r_0 = rc.state_0\n",
    "err = rc.fit(train_t,u)\n",
    "\n",
    "# Make predicitions\n",
    "test_pre = rc.predict(test_t)\n",
    "train_pre = rc.predict(train_t, r_0=r_0)\n",
    "\n",
    "# Eigen information\n",
    "eig_size = np.abs(np.linalg.eigvals(rc.res))\n",
    "eig_angles = evec_angles(rc.res).real\n",
    "\n",
    "# Plot\n",
    "\n",
    "plt.subplot(231)\n",
    "plt.hist(eig_size)\n",
    "plt.title(\"Random\")\n",
    "plt.subplot(234)\n",
    "plt.hist(eig_angles)\n",
    "\n",
    "print(\"Rand err: {}\".format(err))\n",
    "print(\"Rand pre: {}\".format(how_long_accurate(u(test_t), test_pre, tol=TOL)))\n",
    "\n",
    "#################\n",
    "# Specialized graph\n",
    "##################\n",
    "\n",
    "A = specialize_best_nodes(rc, NUM_TO_SPEC, u, train_t, r_0=r_0)\n",
    "rc = make_res_comp(A, res_params)\n",
    "\n",
    "r_0 = rc.state_0\n",
    "err = rc.fit(train_t,u)\n",
    "test_pre = rc.predict(test_t)\n",
    "train_pre = rc.predict(train_t, r_0=r_0)\n",
    "\n",
    "# Eigen information\n",
    "eig_size = np.abs(np.linalg.eigvals(rc.res))\n",
    "eig_angles = evec_angles(rc.res).real\n",
    "\n",
    "# Plot\n",
    "\n",
    "plt.subplot(232)\n",
    "plt.hist(eig_size)\n",
    "plt.title(\"Spec\")\n",
    "plt.subplot(235)\n",
    "plt.hist(eig_angles)\n",
    "print(\"Spec Err: {}\".format(err))\n",
    "print(\"Spec Pre: {}\".format(how_long_accurate(u(test_t), test_pre, tol=TOL)))\n",
    "\n",
    "##########\n",
    "# Control\n",
    "###########\n",
    "\n",
    "# Make and fit RC\n",
    "params = copy.copy(res_params)\n",
    "params[\"res_sz\"] = A.shape[0]\n",
    "params[\"connect_p\"] = np.sum(A)/(A.shape[0]**2)\n",
    "rc = ResComp(3,3,**params)\n",
    "r_0 = rc.state_0\n",
    "err = rc.fit(train_t,u)\n",
    "\n",
    "# Predict\n",
    "test_pre = rc.predict(test_t)\n",
    "train_pre = rc.predict(train_t, r_0=r_0)\n",
    "\n",
    "# Eigen information\n",
    "eig_size = np.abs(np.linalg.eigvals(rc.res))\n",
    "eig_angles = evec_angles(rc.res).real\n",
    "\n",
    "# Plot\n",
    "\n",
    "plt.subplot(233)\n",
    "plt.hist(eig_size)\n",
    "plt.title(\"Ctrl\")\n",
    "plt.subplot(236)\n",
    "plt.hist(eig_angles)\n",
    "print(\"Ctrl Err: {}\".format(err))\n",
    "print(\"Ctrl Pre: {}\".format(how_long_accurate(u(test_t), test_pre, tol=TOL)))\n",
    "G = nx.DiGraph(rc.res.T)\n",
    "scc = [s for s in nx.strongly_connected_components(G)]\n",
    "print(\"Ctrl Number of Components: {}\".format(len(scc)))"
   ]
  },
  {
   "cell_type": "code",
   "execution_count": 9,
   "metadata": {},
   "outputs": [
    {
     "data": {
      "text/plain": [
       "array([12, 16, 14,  3,  2,  0,  9, 11,  8, 28, 23, 26,  7, 24,  1, 10, 22,\n",
       "        6, 19, 15, 29, 25, 13,  5, 21, 17, 20, 27,  4, 18])"
      ]
     },
     "execution_count": 9,
     "metadata": {},
     "output_type": "execute_result"
    }
   ],
   "source": [
    "# Make res computer\n",
    "\n",
    "rc = ResComp(3,3,**res_params)\n",
    "r_0 = rc.state_0\n",
    "err = rc.fit(train_t,u)\n",
    "\n",
    "np.argsort(score_nodes(rc, u, train_t, r_0=r_0))\n"
   ]
  },
  {
   "cell_type": "code",
   "execution_count": 10,
   "metadata": {},
   "outputs": [],
   "source": [
    "x = np.argsort(avg_score_nodes(rc.res, rc.params, u, train_t, trials=1000))"
   ]
  },
  {
   "cell_type": "code",
   "execution_count": 11,
   "metadata": {},
   "outputs": [
    {
     "name": "stderr",
     "output_type": "stream",
     "text": [
      "/Users/djpassey/Code/NetworkResearch/Reservoir Computing/ResComp.py:29: RuntimeWarning: divide by zero encountered in double_scalars\n",
      "  self.res *= spect_rad/max(np.linalg.eigvals(self.res)).real\n",
      "/Users/djpassey/Code/NetworkResearch/Reservoir Computing/ResComp.py:29: RuntimeWarning: invalid value encountered in multiply\n",
      "  self.res *= spect_rad/max(np.linalg.eigvals(self.res)).real\n"
     ]
    }
   ],
   "source": [
    "y = np.argsort(avg_score_nodes(rc.res, rc.params, u, train_t, trials=1000))"
   ]
  },
  {
   "cell_type": "code",
   "execution_count": 12,
   "metadata": {},
   "outputs": [],
   "source": [
    "import scipy as sp"
   ]
  },
  {
   "cell_type": "code",
   "execution_count": 13,
   "metadata": {},
   "outputs": [
    {
     "data": {
      "text/plain": [
       "KendalltauResult(correlation=0.03908045977011494, pvalue=0.7772097145495377)"
      ]
     },
     "execution_count": 13,
     "metadata": {},
     "output_type": "execute_result"
    }
   ],
   "source": [
    "sp.stats.kendalltau(x,y)"
   ]
  },
  {
   "cell_type": "code",
   "execution_count": 19,
   "metadata": {},
   "outputs": [
    {
     "name": "stdout",
     "output_type": "stream",
     "text": [
      "Rand err: 0.9528684222541765\n",
      "Rand pre: 508\n",
      "Spec Err: 0.3429192872117447\n",
      "Spec Pre: 755\n"
     ]
    },
    {
     "data": {
      "image/png": "[encoded data removed]",
      "text/plain": [
       "<Figure size 720x360 with 4 Axes>"
      ]
     },
     "metadata": {
      "needs_background": "light"
     },
     "output_type": "display_data"
    }
   ],
   "source": [
    "# Make rc\n",
    "rc = ResComp(3,3,**res_params)\n",
    "r_0 = rc.state_0\n",
    "err = rc.fit(train_t,u)\n",
    "\n",
    "# Make predicitions\n",
    "test_pre = rc.predict(test_t)\n",
    "train_pre = rc.predict(train_t, r_0=r_0)\n",
    "\n",
    "# Eigen information\n",
    "eig_size = np.abs(np.linalg.eigvals(rc.res))\n",
    "eig_angles = evec_angles(rc.res).real\n",
    "\n",
    "# Plot\n",
    "\n",
    "plt.subplot(231)\n",
    "plt.hist(eig_size)\n",
    "plt.title(\"Random\")\n",
    "plt.subplot(234)\n",
    "plt.hist(eig_angles)\n",
    "\n",
    "print(\"Rand err: {}\".format(err))\n",
    "print(\"Rand pre: {}\".format(how_long_accurate(u(test_t), test_pre, tol=TOL)))\n",
    "\n",
    "#################\n",
    "# Specialized graph\n",
    "##################\n",
    "\n",
    "A = specialize_best_nodes(rc, NUM_TO_SPEC, u, train_t, r_0=r_0)\n",
    "rc = make_res_comp(A, res_params)\n",
    "\n",
    "r_0 = rc.state_0\n",
    "err = rc.fit(train_t,u)\n",
    "test_pre = rc.predict(test_t)\n",
    "train_pre = rc.predict(train_t, r_0=r_0)\n",
    "\n",
    "# Eigen information\n",
    "eig_size = np.abs(np.linalg.eigvals(rc.res))\n",
    "eig_angles = evec_angles(rc.res).real\n",
    "\n",
    "# Plot\n",
    "\n",
    "plt.subplot(232)\n",
    "plt.hist(eig_size)\n",
    "plt.title(\"Spec\")\n",
    "plt.subplot(235)\n",
    "plt.hist(eig_angles)\n",
    "print(\"Spec Err: {}\".format(err))\n",
    "print(\"Spec Pre: {}\".format(how_long_accurate(u(test_t), test_pre, tol=TOL)))"
   ]
  },
  {
   "cell_type": "code",
   "execution_count": 20,
   "metadata": {},
   "outputs": [],
   "source": [
    "Q = np.linalg.eig(A)[1]\n",
    "angles = np.tril(Q.conj().T.dot(Q))\n",
    "angles = angles[np.tril_indices(A.shape[0], k=-1)]"
   ]
  },
  {
   "cell_type": "code",
   "execution_count": 21,
   "metadata": {},
   "outputs": [
    {
     "data": {
      "text/plain": [
       "array([ 0.+0.j,  0.+0.j, -1.+0.j, ...,  1.+0.j, -1.+0.j, -1.+0.j])"
      ]
     },
     "execution_count": 21,
     "metadata": {},
     "output_type": "execute_result"
    }
   ],
   "source": [
    "\n"
   ]
  },
  {
   "cell_type": "code",
   "execution_count": 16,
   "metadata": {},
   "outputs": [],
   "source": [
    "A = np.array([[0,0,1,1,1],\n",
    "              [1,0,0,0,0],\n",
    "              [0,1,0,0,0],\n",
    "              [0,1,0,0,0],\n",
    "              [0,1,0,0,0]\n",
    "             ])"
   ]
  },
  {
   "cell_type": "code",
   "execution_count": 17,
   "metadata": {},
   "outputs": [],
   "source": [
    "Q = np.linalg.eig(A)[1]"
   ]
  },
  {
   "cell_type": "code",
   "execution_count": 18,
   "metadata": {},
   "outputs": [
    {
     "data": {
      "text/plain": [
       "array([[ 0.678+0.j   ,  0.678-0.j   ,  0.678+0.j   ,  0.   +0.j   ,\n",
       "         0.   +0.j   ],\n",
       "       [-0.235-0.407j, -0.235+0.407j,  0.47 +0.j   ,  0.   +0.j   ,\n",
       "         0.   +0.j   ],\n",
       "       [-0.163+0.282j, -0.163-0.282j,  0.326+0.j   , -0.577+0.j   ,\n",
       "        -0.577+0.j   ],\n",
       "       [-0.163+0.282j, -0.163-0.282j,  0.326+0.j   ,  0.789+0.j   ,\n",
       "        -0.211+0.j   ],\n",
       "       [-0.163+0.282j, -0.163-0.282j,  0.326+0.j   , -0.211+0.j   ,\n",
       "         0.789+0.j   ]])"
      ]
     },
     "execution_count": 18,
     "metadata": {},
     "output_type": "execute_result"
    }
   ],
   "source": [
    "np.round(Q,3)"
   ]
  },
  {
   "cell_type": "markdown",
   "metadata": {},
   "source": [
    "1. Count generalized eigenvectors in random specialization and eigenvalue distribution\n",
    "2. Kendal Tau 10000\n",
    "3. Without reg running\n",
    "\n"
   ]
  }
 ],
 "metadata": {
  "kernelspec": {
   "display_name": "Python 3",
   "language": "python",
   "name": "python3"
  },
  "language_info": {
   "codemirror_mode": {
    "name": "ipython",
    "version": 3
   },
   "file_extension": ".py",
   "mimetype": "text/x-python",
   "name": "python",
   "nbconvert_exporter": "python",
   "pygments_lexer": "ipython3",
   "version": "3.7.4"
  }
 },
 "nbformat": 4,
 "nbformat_minor": 4
}
