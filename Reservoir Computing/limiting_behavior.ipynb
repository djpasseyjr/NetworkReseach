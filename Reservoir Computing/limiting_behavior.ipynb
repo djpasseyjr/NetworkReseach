{
 "cells": [
  {
   "cell_type": "code",
   "execution_count": null,
   "metadata": {},
   "outputs": [],
   "source": [
    "from ResComp import *\n",
    "from specializeGraph import *\n",
    "from specializer import *\n",
    "from matplotlib import pyplot as plt\n",
    "import networkx as nx\n",
    "import copy\n",
    "import random\n",
    "import sys\n",
    "\n",
    "plt.rcParams['figure.figsize'] = [10, 5]\n",
    "\n",
    "\n",
    "BEGIN      = 0\n",
    "END        = 60\n",
    "TIMESTEPS  = 60000\n",
    "X0         = [-20, 10, -.5]\n",
    "FNAME      = \"/Users/djpassey/Code/work/NetworkResearch/UVMproject/data/specRandNets/specNetw{}.csv\"\n",
    "NUM_SPECI  = 1042\n"
   ]
  },
  {
   "cell_type": "code",
   "execution_count": 2,
   "metadata": {},
   "outputs": [],
   "source": [
    "def lorentz_deriv(t0, X, sigma=10., beta=8./3, rho=28.0):\n",
    "    \"\"\"Compute the time-derivative of a Lorenz system.\"\"\"\n",
    "    (x, y, z) = X\n",
    "    return [sigma * (y - x), x * (rho - z) - y, x * y - beta * z]\n",
    "# end\n",
    "\n",
    "def lorenz_equ(x0=X0, begin=BEGIN, end=END, timesteps=TIMESTEPS):\n",
    "    \"\"\"Use solve_ivp to produce a solution to the lorenz equations\"\"\" \n",
    "    t = np.linspace(begin,end,timesteps)\n",
    "    train_t = t[:len(t)//2]\n",
    "    u = integrate.solve_ivp(lorentz_deriv, (begin,end),x0, dense_output=True).sol\n",
    "    return t, train_t, u\n",
    "# end\n",
    "\n",
    "def toterror(u,pre):\n",
    "    \"\"\"Sum of ||u_i - pre_i||_2 for all i\"\"\"\n",
    "    return np.sum(np.sum((u - pre)**2, axis=0)**.5)\n",
    "# end\n",
    "\n",
    "def msqerror(u,pre):\n",
    "    \"\"\"Mean squared error\"\"\"\n",
    "    return np.mean(np.sum((u - pre)**2, axis=0)**.5)\n",
    "# end\n",
    "\n",
    "def maxdist(u,pre):\n",
    "    \"\"\" Max over i of ||u_i - pre_i||\"\"\"\n",
    "    return np.max(np.sum((u - pre)**2, axis=0)**.5)\n",
    "# end\n",
    "\n",
    "def load_spec(i):\n",
    "    return np.genfromtxt(FNAME.format(i), delimiter=\",\")\n",
    "# end\n",
    "\n",
    "def config_model(A):\n",
    "    \"\"\"Produce a network with the same degree distribution as the \n",
    "        network with adj matrix A\"\"\"\n",
    "\n",
    "    # Get in and out deg distributions\n",
    "    G    = nx.DiGraph(A)\n",
    "    din  = sorted([ d for n,d in G.in_degree()], reverse=True)\n",
    "    dout = sorted([d for n,d in G.out_degree()], reverse=True)\n",
    "    \n",
    "    # Create new adj matrix\n",
    "    M    = nx.directed_configuration_model(din,dout, create_using=nx.DiGraph)\n",
    "    M    = nx.DiGraph(M) # Removes parellel edges\n",
    "    M    = nx.adj_matrix(M).toarray()\n",
    "    \n",
    "    return M\n",
    "# end\n",
    "\n",
    "def score_nodes(rc, u, t, r_0=None):\n",
    "    \"\"\" Give every node in the reservoir a relative importance score\n",
    "        \n",
    "        Parameters\n",
    "        ----------\n",
    "        rc (ResComp): reservoir computer\n",
    "        u  (solve_ivp solution): system to model\n",
    "        t  (ndarray): time values to test \n",
    "        \n",
    "        Returns\n",
    "        -------\n",
    "        scores (ndarray): Each node's importance score\n",
    "    \"\"\"\n",
    "    pre, r     = rc.predict(t, return_states=True, r_0=r_0)\n",
    "    derivative = rc.W_out.T.dot(pre - u(t))\n",
    "    scores     = np.mean(np.abs(derivative*r), axis=1)\n",
    "    return scores\n",
    "# end\n",
    "\n",
    "def specialize_best_nodes(rc, how_many, u, t, r_0=None): \n",
    "    \"\"\" Specializes the most useful nodes in the reservoir and\n",
    "        returns an adjacency matrix of the specialized reservoir\n",
    "        \n",
    "        Parameters\n",
    "        ----------\n",
    "        rc (ResComp): reservoir computer\n",
    "        how_many (int): How many nodes to specialize\n",
    "        u  (solve_ivp solution): system to model\n",
    "        t  (ndarray): time values to test\n",
    "        \n",
    "        Returns\n",
    "        S (ndarray): adj matrix of the specialized reservoir\n",
    "        \"\"\"\n",
    "    scores     = score_nodes(rc, u, t, r_0=r_0)\n",
    "    tot        = rc.res.shape[0]\n",
    "    worst_idxs = list(np.argsort(scores)[1:(tot-how_many)])\n",
    "    A          = rc.res\n",
    "    for i in range(tot): A[i,i] = 0\n",
    "    A          = (A != 0)*1\n",
    "    S          = specializeGraph(A, worst_idxs)\n",
    "    return S\n",
    "# end   \n",
    "    \n",
    "def how_long_accurate(u, pre, tol=1):\n",
    "    \"\"\" Find the first i such that ||u_i - pre_i||_2 > tol \"\"\"\n",
    "    for i in range(u.shape[1]):\n",
    "        dist = np.sum((u[:,i] - pre[:,i])**2)**.5\n",
    "        if dist > tol:\n",
    "            return i        \n",
    "    return u.shape[1]\n",
    "# end\n",
    "\n",
    "def make_res_comp(A, params):\n",
    "    # Make res comp with desired adj matrix A\n",
    "    new_params = copy.deepcopy(params)\n",
    "    m,n    = A.shape    \n",
    "    new_params[\"res_sz\"] = n\n",
    "    rc     = ResComp(3,3, **new_params)\n",
    "    rc.res = A * new_params[\"spect_rad\"] / max(np.linalg.eigvals(A)).real\n",
    "    return rc\n",
    "# end\n"
   ]
  },
  {
   "cell_type": "markdown",
   "metadata": {},
   "source": [
    "### Model trajectory"
   ]
  },
  {
   "cell_type": "code",
   "execution_count": 3,
   "metadata": {},
   "outputs": [],
   "source": [
    "params = {\n",
    "    \"diff_eq_params\" : {\"x0\": X0, \"begin\": BEGIN, \"end\": END, \"timesteps\":TIMESTEPS},\n",
    "    \"res_params\"     : {\"res_sz\": 30, \"activ_f\": np.tanh, \"connect_p\": .2, \"ridge_alpha\": .00001, \"spect_rad\": .9, \"gamma\": 1., \"sigma\": 0.12, \"uniform_weights\": True},\n",
    "    \"num_trials\"     : 1000,\n",
    "    \"mse_error\"      : [],\n",
    "    \n",
    "}\n",
    "t, train_t, u = lorenz_equ(**params[\"diff_eq_params\"])\n",
    "train_t = t[30000:55000]\n",
    "test_t  = t[55000:]"
   ]
  },
  {
   "cell_type": "code",
   "execution_count": 5,
   "metadata": {},
   "outputs": [
    {
     "data": {
      "text/plain": [
       "[<matplotlib.lines.Line2D at 0x1284fd190>,\n",
       " <matplotlib.lines.Line2D at 0x1284fd390>,\n",
       " <matplotlib.lines.Line2D at 0x1284fd550>]"
      ]
     },
     "execution_count": 5,
     "metadata": {},
     "output_type": "execute_result"
    },
    {
     "data": {
      "image/png": "[encoded data removed]",
      "text/plain": [
       "<Figure size 432x288 with 1 Axes>"
      ]
     },
     "metadata": {
      "needs_background": "light"
     },
     "output_type": "display_data"
    }
   ],
   "source": [
    "plt.plot(u(train_t).T)"
   ]
  },
  {
   "cell_type": "code",
   "execution_count": 7,
   "metadata": {},
   "outputs": [],
   "source": [
    "res_params = {\"res_sz\": 30, \n",
    "              \"activ_f\": np.tanh,\n",
    "              \"connect_p\": .05, \n",
    "              \"ridge_alpha\": .00001, \n",
    "              \"spect_rad\": .9, \n",
    "              \"gamma\": 1., \n",
    "              \"sigma\": 0.12,\n",
    "              \"uniform_weights\": True\n",
    "             }\n",
    "\n",
    "rc = ResComp(3,3,**res_params)\n",
    "rc.fit(train_t,u)"
   ]
  },
  {
   "cell_type": "markdown",
   "metadata": {},
   "source": [
    "### Limiting behavior"
   ]
  },
  {
   "cell_type": "code",
   "execution_count": 16,
   "metadata": {},
   "outputs": [
    {
     "name": "stderr",
     "output_type": "stream",
     "text": [
      "/usr/local/lib/python3.7/site-packages/ipykernel_launcher.py:109: RuntimeWarning: divide by zero encountered in true_divide\n",
      "/usr/local/lib/python3.7/site-packages/ipykernel_launcher.py:109: RuntimeWarning: invalid value encountered in true_divide\n"
     ]
    },
    {
     "ename": "ValueError",
     "evalue": "Input contains NaN, infinity or a value too large for dtype('float64').",
     "output_type": "error",
     "traceback": [
      "\u001b[0;31m---------------------------------------------------------------------------\u001b[0m",
      "\u001b[0;31mValueError\u001b[0m                                Traceback (most recent call last)",
      "\u001b[0;32m<ipython-input-16-feee361408e3>\u001b[0m in \u001b[0;36m<module>\u001b[0;34m\u001b[0m\n\u001b[1;32m     34\u001b[0m         \u001b[0;31m# Make rc\u001b[0m\u001b[0;34m\u001b[0m\u001b[0;34m\u001b[0m\u001b[0;34m\u001b[0m\u001b[0m\n\u001b[1;32m     35\u001b[0m         \u001b[0mrc\u001b[0m \u001b[0;34m=\u001b[0m \u001b[0mmake_res_comp\u001b[0m\u001b[0;34m(\u001b[0m\u001b[0mA\u001b[0m\u001b[0;34m,\u001b[0m \u001b[0mres_params\u001b[0m\u001b[0;34m)\u001b[0m\u001b[0;34m\u001b[0m\u001b[0;34m\u001b[0m\u001b[0m\n\u001b[0;32m---> 36\u001b[0;31m         \u001b[0mrc\u001b[0m\u001b[0;34m.\u001b[0m\u001b[0mfit\u001b[0m\u001b[0;34m(\u001b[0m\u001b[0mtrain_t\u001b[0m\u001b[0;34m,\u001b[0m\u001b[0mu\u001b[0m\u001b[0;34m)\u001b[0m\u001b[0;34m\u001b[0m\u001b[0;34m\u001b[0m\u001b[0m\n\u001b[0m\u001b[1;32m     37\u001b[0m         \u001b[0msizes\u001b[0m\u001b[0;34m.\u001b[0m\u001b[0mappend\u001b[0m\u001b[0;34m(\u001b[0m\u001b[0mn\u001b[0m\u001b[0;34m)\u001b[0m\u001b[0;34m\u001b[0m\u001b[0;34m\u001b[0m\u001b[0m\n\u001b[1;32m     38\u001b[0m \u001b[0;34m\u001b[0m\u001b[0m\n",
      "\u001b[0;32m~/Code/work/NetworkResearch/Reservoir Computing/ResComp.py\u001b[0m in \u001b[0;36mfit\u001b[0;34m(self, t, u)\u001b[0m\n\u001b[1;32m     54\u001b[0m         \u001b[0mtrue_states\u001b[0m      \u001b[0;34m=\u001b[0m \u001b[0mu\u001b[0m\u001b[0;34m(\u001b[0m\u001b[0mt\u001b[0m\u001b[0;34m)\u001b[0m\u001b[0;34m.\u001b[0m\u001b[0mT\u001b[0m\u001b[0;34m\u001b[0m\u001b[0;34m\u001b[0m\u001b[0m\n\u001b[1;32m     55\u001b[0m         \u001b[0mridge_regression\u001b[0m \u001b[0;34m=\u001b[0m \u001b[0mRidge\u001b[0m\u001b[0;34m(\u001b[0m\u001b[0malpha\u001b[0m\u001b[0;34m=\u001b[0m\u001b[0mself\u001b[0m\u001b[0;34m.\u001b[0m\u001b[0mridge_alpha\u001b[0m\u001b[0;34m,\u001b[0m \u001b[0mfit_intercept\u001b[0m\u001b[0;34m=\u001b[0m\u001b[0;32mFalse\u001b[0m\u001b[0;34m)\u001b[0m\u001b[0;34m\u001b[0m\u001b[0;34m\u001b[0m\u001b[0m\n\u001b[0;32m---> 56\u001b[0;31m         \u001b[0mridge_regression\u001b[0m\u001b[0;34m.\u001b[0m\u001b[0mfit\u001b[0m\u001b[0;34m(\u001b[0m\u001b[0mdriven_states\u001b[0m\u001b[0;34m,\u001b[0m\u001b[0mtrue_states\u001b[0m\u001b[0;34m)\u001b[0m\u001b[0;34m\u001b[0m\u001b[0;34m\u001b[0m\u001b[0m\n\u001b[0m\u001b[1;32m     57\u001b[0m         \u001b[0mself\u001b[0m\u001b[0;34m.\u001b[0m\u001b[0mW_out\u001b[0m       \u001b[0;34m=\u001b[0m \u001b[0mridge_regression\u001b[0m\u001b[0;34m.\u001b[0m\u001b[0mcoef_\u001b[0m\u001b[0;34m\u001b[0m\u001b[0;34m\u001b[0m\u001b[0m\n\u001b[1;32m     58\u001b[0m \u001b[0;34m\u001b[0m\u001b[0m\n",
      "\u001b[0;32m/usr/local/lib/python3.7/site-packages/sklearn/linear_model/ridge.py\u001b[0m in \u001b[0;36mfit\u001b[0;34m(self, X, y, sample_weight)\u001b[0m\n\u001b[1;32m    745\u001b[0m         \u001b[0mself\u001b[0m \u001b[0;34m:\u001b[0m \u001b[0mreturns\u001b[0m \u001b[0man\u001b[0m \u001b[0minstance\u001b[0m \u001b[0mof\u001b[0m \u001b[0mself\u001b[0m\u001b[0;34m.\u001b[0m\u001b[0;34m\u001b[0m\u001b[0;34m\u001b[0m\u001b[0m\n\u001b[1;32m    746\u001b[0m         \"\"\"\n\u001b[0;32m--> 747\u001b[0;31m         \u001b[0;32mreturn\u001b[0m \u001b[0msuper\u001b[0m\u001b[0;34m(\u001b[0m\u001b[0;34m)\u001b[0m\u001b[0;34m.\u001b[0m\u001b[0mfit\u001b[0m\u001b[0;34m(\u001b[0m\u001b[0mX\u001b[0m\u001b[0;34m,\u001b[0m \u001b[0my\u001b[0m\u001b[0;34m,\u001b[0m \u001b[0msample_weight\u001b[0m\u001b[0;34m=\u001b[0m\u001b[0msample_weight\u001b[0m\u001b[0;34m)\u001b[0m\u001b[0;34m\u001b[0m\u001b[0;34m\u001b[0m\u001b[0m\n\u001b[0m\u001b[1;32m    748\u001b[0m \u001b[0;34m\u001b[0m\u001b[0m\n\u001b[1;32m    749\u001b[0m \u001b[0;34m\u001b[0m\u001b[0m\n",
      "\u001b[0;32m/usr/local/lib/python3.7/site-packages/sklearn/linear_model/ridge.py\u001b[0m in \u001b[0;36mfit\u001b[0;34m(self, X, y, sample_weight)\u001b[0m\n\u001b[1;32m    545\u001b[0m                          \u001b[0maccept_sparse\u001b[0m\u001b[0;34m=\u001b[0m\u001b[0m_accept_sparse\u001b[0m\u001b[0;34m,\u001b[0m\u001b[0;34m\u001b[0m\u001b[0;34m\u001b[0m\u001b[0m\n\u001b[1;32m    546\u001b[0m                          \u001b[0mdtype\u001b[0m\u001b[0;34m=\u001b[0m\u001b[0m_dtype\u001b[0m\u001b[0;34m,\u001b[0m\u001b[0;34m\u001b[0m\u001b[0;34m\u001b[0m\u001b[0m\n\u001b[0;32m--> 547\u001b[0;31m                          multi_output=True, y_numeric=True)\n\u001b[0m\u001b[1;32m    548\u001b[0m \u001b[0;34m\u001b[0m\u001b[0m\n\u001b[1;32m    549\u001b[0m         if ((sample_weight is not None) and\n",
      "\u001b[0;32m/usr/local/lib/python3.7/site-packages/sklearn/utils/validation.py\u001b[0m in \u001b[0;36mcheck_X_y\u001b[0;34m(X, y, accept_sparse, accept_large_sparse, dtype, order, copy, force_all_finite, ensure_2d, allow_nd, multi_output, ensure_min_samples, ensure_min_features, y_numeric, warn_on_dtype, estimator)\u001b[0m\n\u001b[1;32m    717\u001b[0m                     \u001b[0mensure_min_features\u001b[0m\u001b[0;34m=\u001b[0m\u001b[0mensure_min_features\u001b[0m\u001b[0;34m,\u001b[0m\u001b[0;34m\u001b[0m\u001b[0;34m\u001b[0m\u001b[0m\n\u001b[1;32m    718\u001b[0m                     \u001b[0mwarn_on_dtype\u001b[0m\u001b[0;34m=\u001b[0m\u001b[0mwarn_on_dtype\u001b[0m\u001b[0;34m,\u001b[0m\u001b[0;34m\u001b[0m\u001b[0;34m\u001b[0m\u001b[0m\n\u001b[0;32m--> 719\u001b[0;31m                     estimator=estimator)\n\u001b[0m\u001b[1;32m    720\u001b[0m     \u001b[0;32mif\u001b[0m \u001b[0mmulti_output\u001b[0m\u001b[0;34m:\u001b[0m\u001b[0;34m\u001b[0m\u001b[0;34m\u001b[0m\u001b[0m\n\u001b[1;32m    721\u001b[0m         y = check_array(y, 'csr', force_all_finite=True, ensure_2d=False,\n",
      "\u001b[0;32m/usr/local/lib/python3.7/site-packages/sklearn/utils/validation.py\u001b[0m in \u001b[0;36mcheck_array\u001b[0;34m(array, accept_sparse, accept_large_sparse, dtype, order, copy, force_all_finite, ensure_2d, allow_nd, ensure_min_samples, ensure_min_features, warn_on_dtype, estimator)\u001b[0m\n\u001b[1;32m    540\u001b[0m         \u001b[0;32mif\u001b[0m \u001b[0mforce_all_finite\u001b[0m\u001b[0;34m:\u001b[0m\u001b[0;34m\u001b[0m\u001b[0;34m\u001b[0m\u001b[0m\n\u001b[1;32m    541\u001b[0m             _assert_all_finite(array,\n\u001b[0;32m--> 542\u001b[0;31m                                allow_nan=force_all_finite == 'allow-nan')\n\u001b[0m\u001b[1;32m    543\u001b[0m \u001b[0;34m\u001b[0m\u001b[0m\n\u001b[1;32m    544\u001b[0m     \u001b[0;32mif\u001b[0m \u001b[0mensure_min_samples\u001b[0m \u001b[0;34m>\u001b[0m \u001b[0;36m0\u001b[0m\u001b[0;34m:\u001b[0m\u001b[0;34m\u001b[0m\u001b[0;34m\u001b[0m\u001b[0m\n",
      "\u001b[0;32m/usr/local/lib/python3.7/site-packages/sklearn/utils/validation.py\u001b[0m in \u001b[0;36m_assert_all_finite\u001b[0;34m(X, allow_nan)\u001b[0m\n\u001b[1;32m     54\u001b[0m                 not allow_nan and not np.isfinite(X).all()):\n\u001b[1;32m     55\u001b[0m             \u001b[0mtype_err\u001b[0m \u001b[0;34m=\u001b[0m \u001b[0;34m'infinity'\u001b[0m \u001b[0;32mif\u001b[0m \u001b[0mallow_nan\u001b[0m \u001b[0;32melse\u001b[0m \u001b[0;34m'NaN, infinity'\u001b[0m\u001b[0;34m\u001b[0m\u001b[0;34m\u001b[0m\u001b[0m\n\u001b[0;32m---> 56\u001b[0;31m             \u001b[0;32mraise\u001b[0m \u001b[0mValueError\u001b[0m\u001b[0;34m(\u001b[0m\u001b[0mmsg_err\u001b[0m\u001b[0;34m.\u001b[0m\u001b[0mformat\u001b[0m\u001b[0;34m(\u001b[0m\u001b[0mtype_err\u001b[0m\u001b[0;34m,\u001b[0m \u001b[0mX\u001b[0m\u001b[0;34m.\u001b[0m\u001b[0mdtype\u001b[0m\u001b[0;34m)\u001b[0m\u001b[0;34m)\u001b[0m\u001b[0;34m\u001b[0m\u001b[0;34m\u001b[0m\u001b[0m\n\u001b[0m\u001b[1;32m     57\u001b[0m     \u001b[0;31m# for object dtype data, we only check for NaNs (GH-13254)\u001b[0m\u001b[0;34m\u001b[0m\u001b[0;34m\u001b[0m\u001b[0;34m\u001b[0m\u001b[0m\n\u001b[1;32m     58\u001b[0m     \u001b[0;32melif\u001b[0m \u001b[0mX\u001b[0m\u001b[0;34m.\u001b[0m\u001b[0mdtype\u001b[0m \u001b[0;34m==\u001b[0m \u001b[0mnp\u001b[0m\u001b[0;34m.\u001b[0m\u001b[0mdtype\u001b[0m\u001b[0;34m(\u001b[0m\u001b[0;34m'object'\u001b[0m\u001b[0;34m)\u001b[0m \u001b[0;32mand\u001b[0m \u001b[0;32mnot\u001b[0m \u001b[0mallow_nan\u001b[0m\u001b[0;34m:\u001b[0m\u001b[0;34m\u001b[0m\u001b[0;34m\u001b[0m\u001b[0m\n",
      "\u001b[0;31mValueError\u001b[0m: Input contains NaN, infinity or a value too large for dtype('float64')."
     ]
    }
   ],
   "source": [
    "res_params = {\"res_sz\": 30, \n",
    "              \"activ_f\": np.tanh,\n",
    "              \"connect_p\": .05, \n",
    "              \"ridge_alpha\": .00001, \n",
    "              \"spect_rad\": .9, \n",
    "              \"gamma\": 1., \n",
    "              \"sigma\": 0.12,\n",
    "              \"uniform_weights\": True\n",
    "             }\n",
    "\n",
    "TRIALS = 10\n",
    "NUM_TO_SPEC = 1\n",
    "times_grown_1 = dict()\n",
    "\n",
    "\n",
    "for i in range(TRIALS):\n",
    "    n = 30\n",
    "    prev_n = 0\n",
    "    rc = ResComp(3,3,**res_params)\n",
    "    rc.fit(train_t,u)\n",
    "    \n",
    "    sizes = []\n",
    "    while  n != prev_n:\n",
    "        # Specialize\n",
    "        A = specialize_best_nodes(rc, NUM_TO_SPEC, u, train_t)        \n",
    "        prev_n = n\n",
    "        n = A.shape[0]\n",
    "\n",
    "        if n > 500:\n",
    "            break\n",
    "            \n",
    "       \n",
    "        \n",
    "        # Make rc\n",
    "        rc = make_res_comp(A, res_params)\n",
    "        rc.fit(train_t,u)\n",
    "        sizes.append(n)\n",
    "        \n",
    "    times_grown_1[i] = sizes"
   ]
  },
  {
   "cell_type": "markdown",
   "metadata": {},
   "source": [
    "### Average Best Nodes"
   ]
  },
  {
   "cell_type": "code",
   "execution_count": null,
   "metadata": {},
   "outputs": [],
   "source": []
  },
  {
   "cell_type": "markdown",
   "metadata": {},
   "source": [
    "### Predicition Length"
   ]
  },
  {
   "cell_type": "code",
   "execution_count": null,
   "metadata": {},
   "outputs": [],
   "source": [
    "res_params = {\"res_sz\": 30, \n",
    "              \"activ_f\": np.tanh,\n",
    "              \"connect_p\": .05, \n",
    "              \"ridge_alpha\": .00001, \n",
    "              \"spect_rad\": .9, \n",
    "              \"gamma\": 1., \n",
    "              \"sigma\": 0.12,\n",
    "              \"uniform_weights\": True\n",
    "             }\n",
    "\n",
    "TRIALS = 100\n",
    "NUM_TO_SPEC = 5\n",
    "times_grown_2 = dict()\n",
    "\n",
    "\n",
    "for i in range(TRIALS):\n",
    "    n = 30\n",
    "    prev_n = 0\n",
    "    rc = ResComp(3,3,**res_params)\n",
    "    rc.fit(train_t,u)\n",
    "    \n",
    "    sizes = []\n",
    "    while  n != prev_n:\n",
    "        # Specialize\n",
    "        A = specialize_best_nodes(rc, NUM_TO_SPEC, u, train_t)        \n",
    "        prev_n = n\n",
    "        n = A.shape[0]\n",
    "\n",
    "        if n > 500:\n",
    "            break\n",
    "            \n",
    "       \n",
    "        \n",
    "        # Make rc\n",
    "        rc = make_res_comp(A, res_params)\n",
    "        rc.fit(train_t,u)\n",
    "        sizes.append(n)\n",
    "        \n",
    "    times_grown_2[i] = sizes"
   ]
  },
  {
   "cell_type": "code",
   "execution_count": null,
   "metadata": {},
   "outputs": [],
   "source": [
    "res_params = {\"res_sz\": 30, \n",
    "              \"activ_f\": np.tanh,\n",
    "              \"connect_p\": .08, \n",
    "              \"ridge_alpha\": .00001, \n",
    "              \"spect_rad\": .9, \n",
    "              \"gamma\": 1., \n",
    "              \"sigma\": 0.12,\n",
    "              \"uniform_weights\": True\n",
    "             }\n",
    "\n",
    "TRIALS = 100\n",
    "NUM_TO_SPEC = 1\n",
    "times_grown_3 = dict()\n",
    "\n",
    "\n",
    "for i in range(TRIALS):\n",
    "    n = 30\n",
    "    prev_n = 0\n",
    "    rc = ResComp(3,3,**res_params)\n",
    "    rc.fit(train_t,u)\n",
    "    \n",
    "    sizes = []\n",
    "    while  n != prev_n:\n",
    "        # Specialize\n",
    "        A = specialize_best_nodes(rc, NUM_TO_SPEC, u, train_t)        \n",
    "        prev_n = n\n",
    "        n = A.shape[0]\n",
    "\n",
    "        if n > 500:\n",
    "            break\n",
    "            \n",
    "       \n",
    "        \n",
    "        # Make rc\n",
    "        rc = make_res_comp(A, res_params)\n",
    "        rc.fit(train_t,u)\n",
    "        sizes.append(n)\n",
    "        \n",
    "    times_grown_3[i] = sizes"
   ]
  },
  {
   "cell_type": "code",
   "execution_count": null,
   "metadata": {},
   "outputs": [],
   "source": [
    "res_params = {\"res_sz\": 30, \n",
    "              \"activ_f\": np.tanh,\n",
    "              \"connect_p\": .08, \n",
    "              \"ridge_alpha\": .00001, \n",
    "              \"spect_rad\": .9, \n",
    "              \"gamma\": 1., \n",
    "              \"sigma\": 0.12,\n",
    "              \"uniform_weights\": True\n",
    "             }\n",
    "\n",
    "TRIALS = 100\n",
    "NUM_TO_SPEC = 3\n",
    "times_grown_4 = dict()\n",
    "\n",
    "\n",
    "for i in range(TRIALS):\n",
    "    n = 30\n",
    "    prev_n = 0\n",
    "    rc = ResComp(3,3,**res_params)\n",
    "    rc.fit(train_t,u)\n",
    "    \n",
    "    sizes = []\n",
    "    while  n != prev_n:\n",
    "        # Specialize\n",
    "        A = specialize_best_nodes(rc, NUM_TO_SPEC, u, train_t)        \n",
    "        prev_n = n\n",
    "        n = A.shape[0]\n",
    "\n",
    "        if n > 500:\n",
    "            break\n",
    "            \n",
    "       \n",
    "        \n",
    "        # Make rc\n",
    "        rc = make_res_comp(A, res_params)\n",
    "        rc.fit(train_t,u)\n",
    "        sizes.append(n)\n",
    "        \n",
    "    times_grown_4[i] = sizes"
   ]
  },
  {
   "cell_type": "markdown",
   "metadata": {},
   "source": [
    "### Re-run grant figure trials to get prediction length"
   ]
  },
  {
   "cell_type": "code",
   "execution_count": 45,
   "metadata": {},
   "outputs": [],
   "source": [
    "params = {\n",
    "    \"diff_eq_params\" : {\"x0\": X0, \"begin\": BEGIN, \"end\": END, \"timesteps\":TIMESTEPS},\n",
    "    \"res_params\"     : {\"res_sz\": 50, \"activ_f\": np.tanh, \"connect_p\": .02, \"ridge_alpha\": .00001, \"spect_rad\": .9, \"gamma\": 1., \"sigma\": 0.12, \"uniform_weights\": True},\n",
    "    \"num_trials\"     : 100,\n",
    "    \"mse_error\"      : [],\n",
    "    \n",
    "}"
   ]
  },
  {
   "cell_type": "code",
   "execution_count": null,
   "metadata": {},
   "outputs": [],
   "source": [
    "res_params = {\"res_sz\": 30, \n",
    "              \"activ_f\": np.tanh,\n",
    "              \"connect_p\": .12, \n",
    "              \"ridge_alpha\": .00001, \n",
    "              \"spect_rad\": .9, \n",
    "              \"gamma\": 1., \n",
    "              \"sigma\": 0.12,\n",
    "              \"uniform_weights\": True\n",
    "             }\n",
    "TRIALS      = 2\n",
    "NUM_TO_SPEC = 3\n",
    "TOL = 5\n",
    "\n",
    "random_err       = []\n",
    "random_pred      = []\n",
    "specialized_err  = []\n",
    "specialized_pred = []\n",
    "\n",
    "sizes       = []\n",
    "edges       = []\n",
    "\n",
    "for i in range(TRIALS):\n",
    "    \n",
    "    ######################\n",
    "    # Random graph\n",
    "    ######################\n",
    "    \n",
    "    # Make rc\n",
    "    rc = ResComp(3,3,**res_params)\n",
    "    r_0 = rc.state_0\n",
    "    rc.fit(train_t,u)\n",
    "    \n",
    "    # Make predicitions\n",
    "    test_pre = rc.predict(test_t)\n",
    "    train_pre = rc.predict(train_t, r_0=r_0)\n",
    "    \n",
    "    # Store Error\n",
    "    random_err.append(msqerror(u(train_t), train_pre))\n",
    "    random_pred.append(how_long_accurate(u(test_t), test_pre, tol=TOL))\n",
    "    \n",
    "    #######################\n",
    "    # Specialize graph\n",
    "    ######################\n",
    "    \n",
    "    A = specialize_best_nodes(rc, NUM_TO_SPEC, u, train_t, r_0=r_0)\n",
    "    sizes.append(A.shape[0])\n",
    "    edges.append(np.sum(A != 0))\n",
    "    \n",
    "    rc = make_res_comp(A, res_params)\n",
    "    r_0 = rc.state_0\n",
    "    rc.fit(train_t,u)\n",
    "    test_pre = rc.predict(test_t)\n",
    "    train_pre = rc.predict(train_t, r_0=r_0)\n",
    "    specialized_err.append(msqerror(u(train_t), train_pre))\n",
    "    specialized_pred.append(how_long_accurate(u(test_t), test_pre, tol=TOL))\n"
   ]
  },
  {
   "cell_type": "code",
   "execution_count": null,
   "metadata": {},
   "outputs": [],
   "source": [
    "plt.hist(random_pred)\n",
    "print(\"Mean Error: {}\".format(np.mean(random_pred)))\n",
    "print(\"Error Var: {}\".format(np.var(random_pred)))\n"
   ]
  },
  {
   "cell_type": "code",
   "execution_count": null,
   "metadata": {},
   "outputs": [],
   "source": [
    "plt.hist(specialized_pred)\n",
    "print(\"Mean Error: {}\".format(np.mean(specialized_pred)))\n",
    "print(\"Error Var: {}\".format(np.var(specialized_pred)))"
   ]
  },
  {
   "cell_type": "markdown",
   "metadata": {},
   "source": [
    "### Same Network Sizes"
   ]
  },
  {
   "cell_type": "code",
   "execution_count": null,
   "metadata": {},
   "outputs": [],
   "source": [
    "res_params = {\"res_sz\": 30, \n",
    "              \"activ_f\": np.tanh,\n",
    "              \"connect_p\": .12, \n",
    "              \"ridge_alpha\": .00001, \n",
    "              \"spect_rad\": .9, \n",
    "              \"gamma\": 1., \n",
    "              \"sigma\": 0.12}\n",
    "TRIALS      = 50\n",
    "NUM_TO_SPEC = 3 \n",
    "random_large_err = []\n",
    "random_large_pred = []\n",
    "\n",
    "for s in SZ:\n",
    "    # Test random graph\n",
    "    res_params[\"res_sz\"] = s\n",
    "    rc = ResComp(3,3,**res_params)\n",
    "    r_0 = rc.state_0\n",
    "    rc.fit(train_t,u)\n",
    "    test_pre = rc.predict(test_t)\n",
    "    train_pre = rc.predict(train_t, r_0=r_0)\n",
    "    random_large_err.append(msqerror(u(train_t), train_pre))\n",
    "    random_large_pred.append(how_long_accurate(u(test_t), test_pre, tol=TOL))\n"
   ]
  },
  {
   "cell_type": "code",
   "execution_count": null,
   "metadata": {},
   "outputs": [],
   "source": [
    "plt.hist(random_large_pred)\n",
    "print(\"Mean Error: {}\".format(np.mean(random_large_pred)))\n",
    "print(\"Error Var: {}\".format(np.var(random_large_pred)))"
   ]
  },
  {
   "cell_type": "markdown",
   "metadata": {},
   "source": [
    "### Same Sizes and Same Edge Densities"
   ]
  },
  {
   "cell_type": "code",
   "execution_count": null,
   "metadata": {},
   "outputs": [],
   "source": [
    "res_params = {\"res_sz\": 30, \n",
    "              \"activ_f\": np.tanh,\n",
    "              \"connect_p\": .12, \n",
    "              \"ridge_alpha\": .00001, \n",
    "              \"spect_rad\": .9, \n",
    "              \"gamma\": 1., \n",
    "              \"sigma\": 0.12}\n",
    "\n",
    "match_edge_err = []\n",
    "match_edge_pred = []\n",
    "\n",
    "for s,e in zip(SZ,ED):\n",
    "    # Test random graph\n",
    "    res_params[\"res_sz\"] = s\n",
    "    res_params[\"connect_p\"] = e/(s**2)\n",
    "    rc = ResComp(3,3,**res_params)\n",
    "    r_0 = rc.state_0\n",
    "    rc.fit(train_t,u)\n",
    "    test_pre = rc.predict(test_t)\n",
    "    train_pre = rc.predict(train_t, r_0=r_0)\n",
    "    match_edge_err.append(msqerror(u(train_t), train_pre))\n",
    "    match_edge_pred.append(how_long_accurate(u(test_t), test_pre, tol=TOL))\n"
   ]
  },
  {
   "cell_type": "code",
   "execution_count": null,
   "metadata": {},
   "outputs": [],
   "source": [
    "plt.hist(match_edge_pred)\n",
    "print(\"Mean Error: {}\".format(np.mean(match_edge_pred)))\n",
    "print(\"Error Var: {}\".format(np.var(match_edge_pred)))"
   ]
  },
  {
   "cell_type": "code",
   "execution_count": null,
   "metadata": {},
   "outputs": [],
   "source": [
    "results = np.zeros((4,2))\n",
    "i = 0\n",
    "for data in [random_red, random_large_pred, match_edge_pred, specialized_pred][::-1]:\n",
    "    results[i] = [np.mean(data), np.std(data)]\n",
    "    i += 1\n",
    "# end\n"
   ]
  },
  {
   "cell_type": "code",
   "execution_count": 19,
   "metadata": {},
   "outputs": [
    {
     "name": "stdout",
     "output_type": "stream",
     "text": [
      "                   Method    Mean Error     Error Std\n",
      "0             Specialized     19.911212     67.216644\n",
      "1  Same # Nodes and Edges     33.734228    183.318816\n",
      "2    Same Number of Nodes     46.287773    144.353617\n",
      "3        Original Network  15883.356449  21995.366729\n"
     ]
    }
   ],
   "source": [
    "import pandas as pd\n",
    "data = {\"Method\"     : [\"Specialized\", \"Same # Nodes and Edges\", \"Same Number of Nodes\", \"Original Network\"],\n",
    "        \"Mean Error\" : results[:,0],\n",
    "        \"Error Std\"  : results[:,1]\n",
    "       }\n",
    "df = pd.DataFrame(data)\n",
    "print(df)"
   ]
  },
  {
   "cell_type": "markdown",
   "metadata": {},
   "source": [
    "### Notes:\n",
    "I ran the tests on a reservoir computer with 50 nodes and when I decreased the sparsity to .02 from .1 the rc started being able to model the system.\n",
    "\n",
    "Is there a minimal network that can capture the lorenz system's lyapunov exponents\n",
    "Are the most important nodes always neighbors? Always part of the same strongly connected component? Size of the stongly connected component containing the most important nodes.\n",
    "\n",
    "#### Question\n",
    "Does specialization limit out when we pick high performers?\n",
    "Is it limited to the neighborhood?\n",
    "\n",
    "Limiting growth schemes:\n",
    "Grow until  "
   ]
  },
  {
   "cell_type": "markdown",
   "metadata": {},
   "source": [
    "### Specialization without finding best nodes"
   ]
  },
  {
   "cell_type": "code",
   "execution_count": 22,
   "metadata": {},
   "outputs": [
    {
     "name": "stdout",
     "output_type": "stream",
     "text": [
      "#\r"
     ]
    }
   ],
   "source": [
    "res_params = {\"res_sz\": 30, \n",
    "              \"activ_f\": np.tanh,\n",
    "              \"connect_p\": .12, \n",
    "              \"ridge_alpha\": .00001, \n",
    "              \"spect_rad\": .9, \n",
    "              \"gamma\": 1., \n",
    "              \"sigma\": 0.12,\n",
    "              \"uniform_weights\": True\n",
    "             }\n",
    "TRIALS      = 1000\n",
    "NUM_TO_SPEC = 3 \n",
    "\n",
    "random_g      = []\n",
    "specialized   = []\n",
    "sizes         = []\n",
    "edges         = []\n",
    "\n",
    "for i in range(TRIALS):\n",
    "    # Test random graph\n",
    "    rc = ResComp(3,3,**res_params)\n",
    "    r_0 = rc.state_0\n",
    "    rc.fit(train_t,u)\n",
    "    test_pre = rc.predict(test_t)\n",
    "    train_pre = rc.predict(train_t, r_0=r_0)\n",
    "    random_g.append(msqerror(u(train_t), train_pre))\n",
    "    # Specialize the graph and test again\n",
    "    A          = rc.res\n",
    "    for j in range(A.shape[0]): A[j,j] = 0\n",
    "    A          = (A != 0)*1\n",
    "    A          = specializeGraph(A, random.sample(list(range(30)),27))\n",
    "    sizes.append(A.shape[0])\n",
    "    edges.append(np.sum(A != 0))\n",
    "    rc = make_res_comp(A, res_params)\n",
    "    r_0 = rc.state_0\n",
    "    rc.fit(train_t,u)\n",
    "    test_pre = rc.predict(test_t)\n",
    "    train_pre = rc.predict(train_t, r_0=r_0)\n",
    "    specialized.append(msqerror(u(train_t), train_pre))\n",
    "    sys.stdout.write(\"#\"+(i // 50)*\"#\"+\"\\r\")"
   ]
  },
  {
   "cell_type": "code",
   "execution_count": 32,
   "metadata": {},
   "outputs": [
    {
     "name": "stdout",
     "output_type": "stream",
     "text": [
      "Mean Error: 16132.862201474938\n",
      "Error Std: 21752.942813226942\n"
     ]
    },
    {
     "data": {
      "image/png": "[encoded data removed]",
      "text/plain": [
       "<Figure size 720x360 with 1 Axes>"
      ]
     },
     "metadata": {
      "needs_background": "light"
     },
     "output_type": "display_data"
    }
   ],
   "source": [
    "plt.hist(random_g)\n",
    "print(\"Mean Error: {}\".format(np.mean(random_g)))\n",
    "print(\"Error Std: {}\".format(np.std(random_g)))"
   ]
  },
  {
   "cell_type": "code",
   "execution_count": 33,
   "metadata": {},
   "outputs": [
    {
     "name": "stdout",
     "output_type": "stream",
     "text": [
      "Mean Error: 38.896811671516986\n",
      "Error Std: 187.57757132928074\n"
     ]
    },
    {
     "data": {
      "image/png": "[encoded data removed]",
      "text/plain": [
       "<Figure size 720x360 with 1 Axes>"
      ]
     },
     "metadata": {
      "needs_background": "light"
     },
     "output_type": "display_data"
    }
   ],
   "source": [
    "plt.hist(specialized)\n",
    "print(\"Mean Error: {}\".format(np.mean(specialized)))\n",
    "print(\"Error Std: {}\".format(np.std(specialized)))"
   ]
  },
  {
   "cell_type": "code",
   "execution_count": 25,
   "metadata": {},
   "outputs": [
    {
     "name": "stdout",
     "output_type": "stream",
     "text": [
      "#\r"
     ]
    }
   ],
   "source": [
    "random_large = []\n",
    "\n",
    "for s in sizes:\n",
    "    # Test random graph\n",
    "    res_params[\"res_sz\"] = s\n",
    "    rc = ResComp(3,3,**res_params)\n",
    "    r_0 = rc.state_0\n",
    "    rc.fit(train_t,u)\n",
    "    test_pre = rc.predict(test_t)\n",
    "    train_pre = rc.predict(train_t, r_0=r_0)\n",
    "    random_large.append(msqerror(u(train_t), train_pre))\n",
    "    sys.stdout.write(\"#\"+(i // 50)*\"#\"+\"\\r\")"
   ]
  },
  {
   "cell_type": "code",
   "execution_count": 34,
   "metadata": {},
   "outputs": [
    {
     "name": "stdout",
     "output_type": "stream",
     "text": [
      "Mean Error: 51354.99641086582\n",
      "Error Std: 71135.54415891887\n"
     ]
    },
    {
     "data": {
      "image/png": "[encoded data removed]",
      "text/plain": [
       "<Figure size 720x360 with 1 Axes>"
      ]
     },
     "metadata": {
      "needs_background": "light"
     },
     "output_type": "display_data"
    }
   ],
   "source": [
    "plt.hist(random_large)\n",
    "print(\"Mean Error: {}\".format(np.mean(random_large)))\n",
    "print(\"Error Std: {}\".format(np.std(random_large)))"
   ]
  },
  {
   "cell_type": "code",
   "execution_count": 27,
   "metadata": {},
   "outputs": [
    {
     "name": "stdout",
     "output_type": "stream",
     "text": [
      "#\r"
     ]
    }
   ],
   "source": [
    "match_edge = []\n",
    "\n",
    "for s,e in zip(sizes, edges):\n",
    "    # Test random graph\n",
    "    res_params[\"res_sz\"] = s\n",
    "    res_params[\"connect_p\"] = e/(s**2)\n",
    "    rc = ResComp(3,3,**res_params)\n",
    "    r_0 = rc.state_0\n",
    "    rc.fit(train_t,u)\n",
    "    test_pre = rc.predict(test_t)\n",
    "    train_pre = rc.predict(train_t, r_0=r_0)\n",
    "    match_edge.append(msqerror(u(train_t), train_pre))\n",
    "    sys.stdout.write(\"#\"+(i // 50)*\"#\"+\"\\r\")"
   ]
  },
  {
   "cell_type": "code",
   "execution_count": 35,
   "metadata": {},
   "outputs": [
    {
     "name": "stdout",
     "output_type": "stream",
     "text": [
      "Mean Error: 825.8280518756064\n",
      "Error Std: 3022.7359785044\n"
     ]
    },
    {
     "data": {
      "image/png": "[encoded data removed]",
      "text/plain": [
       "<Figure size 720x360 with 1 Axes>"
      ]
     },
     "metadata": {
      "needs_background": "light"
     },
     "output_type": "display_data"
    }
   ],
   "source": [
    "plt.hist(match_edge)\n",
    "print(\"Mean Error: {}\".format(np.mean(match_edge)))\n",
    "print(\"Error Std: {}\".format(np.std(match_edge)))"
   ]
  }
 ],
 "metadata": {
  "kernelspec": {
   "display_name": "Python 3",
   "language": "python",
   "name": "python3"
  },
  "language_info": {
   "codemirror_mode": {
    "name": "ipython",
    "version": 3
   },
   "file_extension": ".py",
   "mimetype": "text/x-python",
   "name": "python",
   "nbconvert_exporter": "python",
   "pygments_lexer": "ipython3",
   "version": "3.7.4"
  }
 },
 "nbformat": 4,
 "nbformat_minor": 4
}
