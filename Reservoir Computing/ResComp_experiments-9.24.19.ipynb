{
 "cells": [
  {
   "cell_type": "code",
   "execution_count": 1,
   "metadata": {},
   "outputs": [],
   "source": [
    "from ResComp import *\n",
    "from matplotlib import pyplot as plt\n",
    "import networkx as nx"
   ]
  },
  {
   "cell_type": "markdown",
   "metadata": {},
   "source": [
    "## A Comparison of the Predictive Power of \n",
    " 1. Random Networks\n",
    " 2. Specialization from random network\n",
    " 3. Specialization with random edge weights\n",
    " 4. Configuration model"
   ]
  },
  {
   "cell_type": "code",
   "execution_count": 11,
   "metadata": {},
   "outputs": [],
   "source": [
    "BEGIN      = 0\n",
    "END        = 3\n",
    "TIMESTEPS  = 2000\n",
    "X0         = [.5, 0, -.5]\n",
    "FNAME      = \"/Users/djpassey/Code/work/NetworkResearch/UVMproject/data/specRandNets/specNetw{}.csv\"\n",
    "NUM_SPECI  = 1042\n",
    "BINS = [0,5,10,15,20,40,80,100]"
   ]
  },
  {
   "cell_type": "code",
   "execution_count": 20,
   "metadata": {},
   "outputs": [],
   "source": [
    "def lorenz_equ(x0=X0, begin=BEGIN, end=END, timesteps=TIMESTEPS):\n",
    "    t = np.linspace(begin,end,timesteps)\n",
    "    train_t = t[:len(t)//2]\n",
    "    u = integrate.solve_ivp(lorentz_deriv, (begin,end),x0, dense_output=True).sol\n",
    "    return t, train_t, u\n",
    "# end\n",
    "\n",
    "def error(u,pre):\n",
    "    return np.mean(np.sum((u - pre)**2, axis=0)**.5)\n",
    "\n",
    "def config_model(A):\n",
    "\n",
    "    # Get in and out deg distributions\n",
    "    G    = nx.DiGraph(A)\n",
    "    din  = sorted([ d for n,d in G.in_degree()], reverse=True)\n",
    "    dout = sorted([d for n,d in G.out_degree()], reverse=True)\n",
    "    \n",
    "    # Create new adj matrix\n",
    "    M    = nx.directed_configuration_model(din,dout, create_using=nx.DiGraph)\n",
    "    M    = nx.DiGraph(M) # Removes parellel edges\n",
    "    M    = nx.adj_matrix(M).toarray()\n",
    "    \n",
    "    return M\n",
    "# end\n",
    "\n",
    "def lorenz_experiment(params):\n",
    "    t, train_t, u = lorenz_equ(**params[\"diff_eq_params\"])\n",
    "    for i in range(params[\"num_trials\"]):\n",
    "        rc = ResComp(3,3, **params[\"res_params\"])\n",
    "        rc.fit(train_t,u)\n",
    "        params[\"mse_error\"].append( error(u(t), rc.predict(t)) )\n",
    "    # end\n",
    "# end\n",
    "\n",
    "def spec_experiment(params):\n",
    "    t, train_t, u = lorenz_equ(**params[\"diff_eq_params\"])\n",
    "    for i in range(1,(NUM_SPECI+1)):\n",
    "        \n",
    "        # Use adj matrix of specialized graph for reservoir\n",
    "        M      = np.genfromtxt(FNAME.format(i), delimiter=\",\")\n",
    "        m,n    = M.shape\n",
    "        \n",
    "        params[\"res_params\"][\"res_sz\"] = n\n",
    "        rc     = ResComp(3,3, **params[\"res_params\"])\n",
    "        rc.res = M * params[\"res_params\"][\"spect_rad\"] / max(np.linalg.eigvals(M)).real\n",
    "        rc.fit(train_t,u)\n",
    "        params[\"mse_error\"].append( error(u(t), rc.predict(t)) )\n",
    "    # end\n",
    "# end\n",
    "\n",
    "def spec_experiment_weighted(params):\n",
    "    t, train_t, u = lorenz_equ(**params[\"diff_eq_params\"])\n",
    "    for i in range(1,(NUM_SPECI+1)):\n",
    "        \n",
    "        # Construct reservoir from specialized network\n",
    "        mask    = np.genfromtxt(FNAME.format(i), delimiter=\",\") == 0\n",
    "        m,n     = mask.shape\n",
    "        # Center edge weights around zero\n",
    "        M       = (np.random.rand(n,n) - .5)\n",
    "        M[mask] = 0\n",
    "        \n",
    "        params[\"res_params\"][\"res_sz\"] = n\n",
    "        rc      = ResComp(3,3, **params[\"res_params\"])\n",
    "        rc.res  = M * params[\"res_params\"][\"spect_rad\"] / max(np.linalg.eigvals(M)).real\n",
    "        rc.fit(train_t,u)\n",
    "        params[\"mse_error\"].append( error(u(t), rc.predict(t)) )\n",
    "    # end\n",
    "# end\n",
    "\n",
    "def config_experiment(params):\n",
    "    t, train_t, u = lorenz_equ(**params[\"diff_eq_params\"])\n",
    "    for i in range(1,(NUM_SPECI+1)):\n",
    "        \n",
    "        # Construct reservoir with the same degree distribution as specialized net\n",
    "        spec = np.genfromtxt(FNAME.format(i), delimiter=\",\")\n",
    "        M = config_model(spec)\n",
    "        \n",
    "        # Create reservoir computer\n",
    "        m,n    = M.shape\n",
    "        params[\"res_params\"][\"res_sz\"] = n\n",
    "        rc     = ResComp(3,3, **params[\"res_params\"])\n",
    "        rc.res = M * params[\"res_params\"][\"spect_rad\"] / max(np.linalg.eigvals(M)).real\n",
    "        rc.fit(train_t,u)\n",
    "        params[\"mse_error\"].append( error(u(t), rc.predict(t)) )\n",
    "    # end\n",
    "# end\n",
    "        \n",
    "def config_experiment_weighted(params):\n",
    "    t, train_t, u = lorenz_equ(**params[\"diff_eq_params\"])\n",
    "    for i in range(1,(NUM_SPECI+1)):\n",
    "        \n",
    "        # Construct reservoir with the same degree distribution as specialized net\n",
    "        spec = np.genfromtxt(FNAME.format(i), delimiter=\",\")\n",
    "         \n",
    "        mask    = config_model(spec) == 0\n",
    "        m,n     = mask.shape\n",
    "        # Center edge weights around zero\n",
    "        M       = (np.random.rand(n,n) - .5)\n",
    "        M[mask] = 0\n",
    "        \n",
    "        # Create reservoir computer\n",
    "        m,n    = M.shape\n",
    "        params[\"res_params\"][\"res_sz\"] = n\n",
    "        rc     = ResComp(3,3, **params[\"res_params\"])\n",
    "        rc.res = M * params[\"res_params\"][\"spect_rad\"] / max(np.linalg.eigvals(M)).real\n",
    "        rc.fit(train_t,u)\n",
    "        params[\"mse_error\"].append( error(u(t), rc.predict(t)) )\n",
    "    # end\n",
    "# end    \n",
    "\n",
    "def random_experiment_uniform(params):\n",
    "    t, train_t, u = lorenz_equ(**params[\"diff_eq_params\"])\n",
    "    for i in range(params[\"num_trials\"]):\n",
    "        \n",
    "        # Make weights uniform\n",
    "        rc = ResComp(3,3, **params[\"res_params\"])\n",
    "        mask = rc.res != 0\n",
    "        rc.res[mask] = 1\n",
    "        rc.res *= params[\"res_params\"][\"spect_rad\"] / max(np.linalg.eigvals(rc.res)).real\n",
    "        \n",
    "        # Train res comp\n",
    "        rc.fit(train_t,u)\n",
    "        params[\"mse_error\"].append( error(u(t), rc.predict(t)) )\n",
    "    # end\n",
    "# end\n"
   ]
  },
  {
   "cell_type": "code",
   "execution_count": null,
   "metadata": {},
   "outputs": [],
   "source": [
    "params = {\n",
    "    \"diff_eq_params\" : {\"x0\": X0, \"begin\": BEGIN, \"end\": END, \"timesteps\":TIMESTEPS},\n",
    "    \"res_params\"     : {\"res_sz\": 300, \"activ_f\": np.tanh, \"connect_p\": .1, \"ridge_alpha\": .00001, \"spect_rad\": .9, \"gamma\": 1., \"sigma\": 0.12},\n",
    "    \"num_trials\"     : 1000,\n",
    "    \"mse_error\"      : [],\n",
    "    \n",
    "}\n",
    "lorenz_experiment(params)\n",
    "\n",
    "spec_params = {\n",
    "    \"diff_eq_params\" : {\"x0\": X0, \"begin\": BEGIN, \"end\": END, \"timesteps\":TIMESTEPS},\n",
    "    \"res_params\"     : {\"res_sz\": 300, \"activ_f\": np.tanh, \"connect_p\": .1, \"ridge_alpha\": .00001, \"spect_rad\": .9, \"gamma\": 1., \"sigma\": 0.12},\n",
    "    \"num_trials\"     : 1000,\n",
    "    \"mse_error\"      : [],\n",
    "}\n",
    "spec_experiment(spec_params)\n",
    "\n",
    "weighted_spec_params = {\n",
    "    \"diff_eq_params\" : {\"x0\": X0, \"begin\": BEGIN, \"end\": END, \"timesteps\":TIMESTEPS},\n",
    "    \"res_params\"     : {\"res_sz\": 300, \"activ_f\": np.tanh, \"connect_p\": .1, \"ridge_alpha\": .00001, \"spect_rad\": .9, \"gamma\": 1., \"sigma\": 0.12},\n",
    "    \"num_trials\"     : 1000,\n",
    "    \"mse_error\"      : [],\n",
    "}\n",
    "spec_experiment(weighted_spec_params)\n",
    "\n",
    "config_params = {\n",
    "    \"diff_eq_params\" : {\"x0\": X0, \"begin\": BEGIN, \"end\": END, \"timesteps\":TIMESTEPS},\n",
    "    \"res_params\"     : {\"res_sz\": 300, \"activ_f\": np.tanh, \"connect_p\": .1, \"ridge_alpha\": .00001, \"spect_rad\": .9, \"gamma\": 1., \"sigma\": 0.12},\n",
    "    \"num_trials\"     : 1000,\n",
    "    \"mse_error\"      : [],\n",
    "}\n",
    "config_experiment(config_params)\n",
    "\n",
    "weighted_config_params = {\n",
    "    \"diff_eq_params\" : {\"x0\": X0, \"begin\": BEGIN, \"end\": END, \"timesteps\":TIMESTEPS},\n",
    "    \"res_params\"     : {\"res_sz\": 300, \"activ_f\": np.tanh, \"connect_p\": .1, \"ridge_alpha\": .00001, \"spect_rad\": .9, \"gamma\": 1., \"sigma\": 0.12},\n",
    "    \"num_trials\"     : 1000,\n",
    "    \"mse_error\"      : [],\n",
    "}\n",
    "config_experiment_weighted(weighted_config_params)"
   ]
  },
  {
   "cell_type": "code",
   "execution_count": 21,
   "metadata": {},
   "outputs": [],
   "source": [
    "uniform_random_params = {\n",
    "    \"diff_eq_params\" : {\"x0\": X0, \"begin\": BEGIN, \"end\": END, \"timesteps\":TIMESTEPS},\n",
    "    \"res_params\"     : {\"res_sz\": 300, \"activ_f\": np.tanh, \"connect_p\": .1, \"ridge_alpha\": .00001, \"spect_rad\": .9, \"gamma\": 1., \"sigma\": 0.12},\n",
    "    \"num_trials\"     : 1000,\n",
    "    \"mse_error\"      : [],\n",
    "}\n",
    "random_experiment_uniform(uniform_random_params)"
   ]
  },
  {
   "cell_type": "markdown",
   "metadata": {},
   "source": [
    "### Random Networks"
   ]
  },
  {
   "cell_type": "code",
   "execution_count": 12,
   "metadata": {},
   "outputs": [
    {
     "data": {
      "image/png": "[encoded data removed]",
      "text/plain": [
       "<Figure size 432x288 with 1 Axes>"
      ]
     },
     "metadata": {
      "needs_background": "light"
     },
     "output_type": "display_data"
    }
   ],
   "source": [
    "plt.hist(params[\"mse_error\"],bins=BINS)\n",
    "plt.show()"
   ]
  },
  {
   "cell_type": "markdown",
   "metadata": {},
   "source": [
    "### Uniform Weight Specialized"
   ]
  },
  {
   "cell_type": "code",
   "execution_count": 13,
   "metadata": {},
   "outputs": [
    {
     "data": {
      "image/png": "[encoded data removed]",
      "text/plain": [
       "<Figure size 432x288 with 1 Axes>"
      ]
     },
     "metadata": {
      "needs_background": "light"
     },
     "output_type": "display_data"
    }
   ],
   "source": [
    "plt.hist(spec_params[\"mse_error\"], bins=BINS)\n",
    "plt.show()"
   ]
  },
  {
   "cell_type": "markdown",
   "metadata": {},
   "source": [
    "### Randomly weighted Specialized"
   ]
  },
  {
   "cell_type": "code",
   "execution_count": 14,
   "metadata": {},
   "outputs": [
    {
     "data": {
      "image/png": "[encoded data removed]",
      "text/plain": [
       "<Figure size 432x288 with 1 Axes>"
      ]
     },
     "metadata": {
      "needs_background": "light"
     },
     "output_type": "display_data"
    }
   ],
   "source": [
    "plt.hist(weighted_spec_params[\"mse_error\"], bins=BINS)\n",
    "plt.show()"
   ]
  },
  {
   "cell_type": "markdown",
   "metadata": {},
   "source": [
    "### Configuration Model Based on Specialized Network Degree Distribution"
   ]
  },
  {
   "cell_type": "code",
   "execution_count": 15,
   "metadata": {},
   "outputs": [
    {
     "data": {
      "image/png": "[encoded data removed]",
      "text/plain": [
       "<Figure size 432x288 with 1 Axes>"
      ]
     },
     "metadata": {
      "needs_background": "light"
     },
     "output_type": "display_data"
    }
   ],
   "source": [
    "plt.hist(config_params[\"mse_error\"], bins=BINS)\n",
    "plt.show()"
   ]
  },
  {
   "cell_type": "markdown",
   "metadata": {},
   "source": [
    "### Configuration with Randomized Weights"
   ]
  },
  {
   "cell_type": "code",
   "execution_count": 19,
   "metadata": {},
   "outputs": [
    {
     "data": {
      "image/png": "[encoded data removed]",
      "text/plain": [
       "<Figure size 432x288 with 1 Axes>"
      ]
     },
     "metadata": {
      "needs_background": "light"
     },
     "output_type": "display_data"
    }
   ],
   "source": [
    "plt.hist(weighted_config_params[\"mse_error\"], bins=BINS)\n",
    "plt.show()"
   ]
  },
  {
   "cell_type": "markdown",
   "metadata": {},
   "source": [
    "### Random graph with uniform weights"
   ]
  },
  {
   "cell_type": "code",
   "execution_count": 22,
   "metadata": {},
   "outputs": [
    {
     "data": {
      "image/png": "[encoded data removed]",
      "text/plain": [
       "<Figure size 432x288 with 1 Axes>"
      ]
     },
     "metadata": {
      "needs_background": "light"
     },
     "output_type": "display_data"
    }
   ],
   "source": [
    "plt.hist(uniform_random_params[\"mse_error\"], bins=BINS)\n",
    "plt.show()"
   ]
  },
  {
   "cell_type": "markdown",
   "metadata": {},
   "source": [
    "Is the last set of graph have a different computationally? More edges? \n",
    "Save high performing nodes and specialize etc."
   ]
  }
 ],
 "metadata": {
  "kernelspec": {
   "display_name": "Python 3",
   "language": "python",
   "name": "python3"
  },
  "language_info": {
   "codemirror_mode": {
    "name": "ipython",
    "version": 3
   },
   "file_extension": ".py",
   "mimetype": "text/x-python",
   "name": "python",
   "nbconvert_exporter": "python",
   "pygments_lexer": "ipython3",
   "version": "3.7.4"
  }
 },
 "nbformat": 4,
 "nbformat_minor": 4
}
