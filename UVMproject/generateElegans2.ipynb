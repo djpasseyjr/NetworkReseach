{
 "cells": [
  {
   "cell_type": "code",
   "execution_count": 1,
   "metadata": {},
   "outputs": [],
   "source": [
    "from specializeGraph import *\n",
    "from matplotlib import pyplot as plt\n",
    "import networkx as nx\n",
    "import pickle"
   ]
  },
  {
   "cell_type": "code",
   "execution_count": 2,
   "metadata": {},
   "outputs": [],
   "source": [
    "def getA(i):\n",
    "    # Load sample graph from 'celegans_samp_ i .csv' into an\n",
    "    # adjacency matrix\n",
    "    \n",
    "    f = open('samples/celegans_samp_ '+ str(i) +' .csv','rb')\n",
    "    l = f.read().split('\\n')\n",
    "    l = [s.split(',') for s in l[1:-1]]\n",
    "    l = [(int(s[0]),int(s[1])) for s in l]\n",
    "    G = nx.DiGraph(l)\n",
    "    return nx.adjacency_matrix(G).toarray()"
   ]
  },
  {
   "cell_type": "code",
   "execution_count": null,
   "metadata": {},
   "outputs": [],
   "source": [
    "j          = 3\n",
    "i          = 1\n",
    "NUM_GRAPHS = 1000\n",
    "attempts    = 0\n",
    "\n",
    "# For each sample graph make 15 attempts \n",
    "# to specialize it to the correct size:\n",
    "\n",
    "while i <= NUM_GRAPHS:\n",
    "\n",
    "    G        = getA(i)    # Load sample i\n",
    "    numNodes = G.shape[0] # Number of nodes in graph\n",
    "    baseSize = 3          # Initial base size (constant)\n",
    "    bases    = []         # List of bases used to store later\n",
    "    growth   = 0          # Number of times specializeGraph was called\n",
    "\n",
    "\n",
    "\n",
    "    # While the graph is not big enough\n",
    "\n",
    "    # Begin Attempt\n",
    "    while numNodes <= 270 and numNodes > 10:\n",
    "\n",
    "        # I added the condition that the graph must be bigger than 10 nodes \n",
    "        # because some graphs would shrink down to nothing and loop forever\n",
    "\n",
    "        # Take a random 90% of the nodes\n",
    "        base = np.random.choice(range(numNodes),size=baseSize,replace=False)\n",
    "\n",
    "        # Attempt to grow the graph\n",
    "        try:\n",
    "            G = specializeGraph(G,list(base))\n",
    "            bases.append(base) # Store base\n",
    "\n",
    "        except Exception:\n",
    "            pass\n",
    "\n",
    "        numNodes = G.shape[0]       # Update the number of nodes\n",
    "        baseSize = int(numNodes*.9) # Compute 90% of the number of nodes\n",
    "        growth   += 1               # Increase specializeGraph call count\n",
    "\n",
    "        if growth > 200:\n",
    "            # If specialize graph is called too many times, exit loop\n",
    "            numNodes = 10\n",
    "\n",
    "    # End Attempt\n",
    "    attempts += 1\n",
    "\n",
    "\n",
    "\n",
    "\n",
    "    if numNodes <= 350 and numNodes > 10:\n",
    "        # If the number of nodes is not too big, save the matrix\n",
    "\n",
    "        # Save matrix as csv \n",
    "        np.savetxt(\"gen_celegans(\"+str(j)+\")/gen_celegans\"+str(i)+\".csv\", \n",
    "                   G, delimiter=\",\",fmt='%1e')\n",
    "\n",
    "        # Store the base sets.\n",
    "        f = open(\"gen_base(\"+str(j)+\")/base\"+str(i)+\".pkl\",'wb')\n",
    "        pickle.dump(bases,f)\n",
    "        f.close()\n",
    "\n",
    "\n",
    "        i       += 1 # Move on to next sample\n",
    "        attempts = 0 # Reset attempts\n",
    "\n",
    "\n",
    "    elif attempts > 15:\n",
    "        # If too many attempts were made, save an empty matrix\n",
    "\n",
    "        # Create empty matrix and empty base\n",
    "        G = np.array([[0]])\n",
    "        base = []\n",
    "\n",
    "        # Save matrix\n",
    "        np.savetxt(\"gen_celegans(\"+str(j)+\")/gen_celegans\"+str(i)+\".csv\", G, delimiter=\",\",fmt='%1e')\n",
    "\n",
    "        # Save base set\n",
    "        f = open(\"gen_base(\"+str(j)+\")/base\"+str(i)+\".pkl\",'wb')\n",
    "        pickle.dump(bases,f)\n",
    "        f.close()\n",
    "\n",
    "\n",
    "        i       += 1 # Move on to next sample\n",
    "        attempts = 0 # Reset attempts\n",
    "\n"
   ]
  },
  {
   "cell_type": "code",
   "execution_count": 3,
   "metadata": {},
   "outputs": [],
   "source": [
    "A = getA(10)\n",
    "G = nx.DiGraph(A)\n",
    "nx.write_graphml(G,'sample12.graphml')"
   ]
  },
  {
   "cell_type": "code",
   "execution_count": 24,
   "metadata": {},
   "outputs": [],
   "source": [
    "A = np.loadtxt(open(\"gen_celegans/gen_celegans15.csv\",'rb'),delimiter=',')"
   ]
  },
  {
   "cell_type": "code",
   "execution_count": 25,
   "metadata": {},
   "outputs": [
    {
     "data": {
      "text/plain": [
       "344.0"
      ]
     },
     "execution_count": 25,
     "metadata": {},
     "output_type": "execute_result"
    }
   ],
   "source": [
    "np.sum(A)"
   ]
  },
  {
   "cell_type": "code",
   "execution_count": null,
   "metadata": {},
   "outputs": [],
   "source": []
  }
 ],
 "metadata": {
  "kernelspec": {
   "display_name": "Python [anaconda]",
   "language": "python",
   "name": "Python [anaconda]"
  },
  "language_info": {
   "codemirror_mode": {
    "name": "ipython",
    "version": 2
   },
   "file_extension": ".py",
   "mimetype": "text/x-python",
   "name": "python",
   "nbconvert_exporter": "python",
   "pygments_lexer": "ipython2",
   "version": "2.7.16"
  }
 },
 "nbformat": 4,
 "nbformat_minor": 2
}
