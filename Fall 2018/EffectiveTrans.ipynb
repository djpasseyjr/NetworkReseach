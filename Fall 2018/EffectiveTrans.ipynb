{
 "cells": [
  {
   "cell_type": "code",
   "execution_count": 14,
   "metadata": {},
   "outputs": [],
   "source": [
    "import numpy as np\n",
    "from scipy import linalg as la\n",
    "from matplotlib import pyplot as plt\n",
    "import specializeGraph"
   ]
  },
  {
   "cell_type": "code",
   "execution_count": 36,
   "metadata": {},
   "outputs": [],
   "source": [
    "def efTrans(A,i,j):\n",
    "    \"\"\"\n",
    "    Parameters:\n",
    "    -----------\n",
    "    A (nxn) numpy array: Adjacency Matrix\n",
    "    i (int): vertex number\n",
    "    j (int): vertex number\n",
    "    \n",
    "    Returns:\n",
    "    --------\n",
    "    ef (float): effective transition probability \n",
    "                between node i and node j\n",
    "    \"\"\"\n",
    "    \n",
    "    m,n = A.shape\n",
    "    s = list(range(n)) #All nodes except i and j\n",
    "    s.remove(i)\n",
    "    s.remove(j)\n",
    "    \n",
    "    c = [i,j] #Just i and j\n",
    "    \n",
    "    #Find the spectral radius\n",
    "    eig = la.eigvals(A)\n",
    "    rho = np.max(eig*eig.conjugate())**.5\n",
    "    \n",
    "    EF = A[c][:,c] - A[c][:,s].dot(la.inv(A[s][:,s] - rho*np.eye(n-2)).dot(A[s][:,c]))\n",
    "    return EF[0,1]"
   ]
  },
  {
   "cell_type": "code",
   "execution_count": 30,
   "metadata": {},
   "outputs": [],
   "source": [
    "A = specializeGraph.randomGraph(10,stronglyCon=1,base=0)"
   ]
  },
  {
   "cell_type": "code",
   "execution_count": 40,
   "metadata": {},
   "outputs": [
    {
     "data": {
      "text/plain": [
       "(1.9570656913515048+0j)"
      ]
     },
     "execution_count": 40,
     "metadata": {},
     "output_type": "execute_result"
    }
   ],
   "source": [
    "efTrans(A,4,9)"
   ]
  },
  {
   "cell_type": "code",
   "execution_count": 45,
   "metadata": {},
   "outputs": [
    {
     "name": "stdout",
     "output_type": "stream",
     "text": [
      "[[ 0.     1.57  -8.474  1.71  -8.264  1.131  1.079  1.887  0.909  1.377]\n",
      " [ 2.648  0.    -7.977  2.359  2.201  1.763  1.487 -7.308  1.339 -7.99 ]\n",
      " [ 2.96   2.328  0.    -7.441  2.135  2.046  1.714 -7.116 -8.227 -7.914]\n",
      " [ 2.456  2.008  1.894  0.     1.728 -8.335 -8.403  2.275  1.09   1.585]\n",
      " [-6.926 -7.688  1.949  2.132  0.     1.788  1.402 -6.794 -8.535  1.957]\n",
      " [ 2.908 -7.313 -7.289  2.981 -7.405  0.    -7.987 -6.094  1.712  2.147]\n",
      " [-6.165 -6.867 -6.86   3.954  2.814 -7.217  0.     3.605  2.036 -7.215]\n",
      " [-7.797  1.864  1.736 -8.15  -7.886 -8.226  1.184  0.     1.081  1.454]\n",
      " [ 3.961 -6.539 -6.016 -6.691  3.605 -7.096 -7.502 -5.967  0.    -6.397]\n",
      " [-6.753  2.811  2.536  2.604 -7.394  1.97   1.848 -7.063 -8.05   0.   ]]\n"
     ]
    },
    {
     "name": "stderr",
     "output_type": "stream",
     "text": [
      "/Library/Python/anaconda/lib/python2.7/site-packages/ipykernel/__main__.py:5: ComplexWarning: Casting complex values to real discards the imaginary part\n"
     ]
    }
   ],
   "source": [
    "M = np.zeros((10,10))\n",
    "for i in range(10):\n",
    "    for j in range(10):\n",
    "        if i != j:\n",
    "            M[i,j] = efTrans(A,i,j)\n",
    "\n",
    "print(np.round(M-10*A,3))"
   ]
  },
  {
   "cell_type": "code",
   "execution_count": 28,
   "metadata": {},
   "outputs": [
    {
     "data": {
      "text/plain": [
       "<function conjugate>"
      ]
     },
     "execution_count": 28,
     "metadata": {},
     "output_type": "execute_result"
    }
   ],
   "source": [
    "c.conjugate"
   ]
  },
  {
   "cell_type": "code",
   "execution_count": null,
   "metadata": {},
   "outputs": [],
   "source": []
  }
 ],
 "metadata": {
  "kernelspec": {
   "display_name": "Python [anaconda]",
   "language": "python",
   "name": "Python [anaconda]"
  },
  "language_info": {
   "codemirror_mode": {
    "name": "ipython",
    "version": 2
   },
   "file_extension": ".py",
   "mimetype": "text/x-python",
   "name": "python",
   "nbconvert_exporter": "python",
   "pygments_lexer": "ipython2",
   "version": "2.7.14"
  }
 },
 "nbformat": 4,
 "nbformat_minor": 2
}
