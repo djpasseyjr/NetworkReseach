{
 "cells": [
  {
   "cell_type": "code",
   "execution_count": 6,
   "metadata": {},
   "outputs": [],
   "source": [
    "import numpy as np\n",
    "from specializeGraph import *\n",
    "import warnings\n",
    "warnings.filterwarnings('ignore')"
   ]
  },
  {
   "cell_type": "code",
   "execution_count": 16,
   "metadata": {},
   "outputs": [],
   "source": [
    "def getFiedlers(A,base):\n",
    "    \"\"\"\n",
    "    Returns the feedler eigenvalue before and after\n",
    "    specialization\n",
    "    \"\"\"\n",
    "    L = laplacian(A,randomWalk=0)\n",
    "    eigs,vecs = np.linalg.eig(L)  \n",
    "    fEig = np.sort(eigs)[1]\n",
    "    \n",
    "    sA = specializeGraph(A,base)\n",
    "    sL = laplacian(sA,randomWalk=0)\n",
    "    eigs,vecs = np.linalg.eig(L)  \n",
    "    SfEig = np.sort(eigs)[1]\n",
    "    return fEig,SfEig\n",
    "\n",
    "def randomGraph(n,base=False,bSize=None):\n",
    "    \"\"\"\n",
    "    Random Graph on n vertices with an optional \n",
    "    random base set of vertices\n",
    "    \"\"\"\n",
    "    A = (np.random.rand(n,n)>np.random.rand())*1.\n",
    "    for j in range(n): A[j,j] = 0\n",
    "    nodes = list(range(n))\n",
    "    if bSize is None:\n",
    "        bSize = np.random.randint(1,high=n)\n",
    "    base = list(np.random.choice(nodes,replace=False,size=bSize))\n",
    "    \n",
    "    if base:\n",
    "        return A,base\n",
    "    else:\n",
    "        return A"
   ]
  },
  {
   "cell_type": "markdown",
   "metadata": {},
   "source": [
    "### Density of Graphs that increase fielder eigenvalue"
   ]
  },
  {
   "cell_type": "code",
   "execution_count": 57,
   "metadata": {},
   "outputs": [
    {
     "name": "stdout",
     "output_type": "stream",
     "text": [
      "Density of Graphs that Increase Fiedler as n increases\n",
      "n\t Preserve \t Incr \t Decr\n",
      "3\t0.0\t\t1.0\t0.0\n",
      "4\t0.0\t\t1.0\t0.0\n",
      "5\t0.0\t\t1.0\t0.0\n",
      "6\t0.0\t\t1.0\t0.0\n",
      "7\t0.0\t\t1.0\t0.0\n"
     ]
    }
   ],
   "source": [
    "print(\"Density of Graphs that Increase Fiedler as n increases\")\n",
    "print(\"n\\t Preserve \\t Incr \\t Decr\")\n",
    "for n in range(3,8):\n",
    "    incr = 0\n",
    "    decr = 0\n",
    "    preserve = 0\n",
    "    total = 10*n**3\n",
    "    for i in range(total):\n",
    "        A,base = randomGraph(n)\n",
    "        L = laplacian(A,randomWalk=0)\n",
    "        eigs,vecs = np.linalg.eig(L)  \n",
    "        fEig = np.sort(eigs)[1]\n",
    "\n",
    "        sA = specializeGraph(A,base)\n",
    "        if sA.shape[0] > A.shape[0]:\n",
    "            sL = laplacian(sA,randomWalk=0)\n",
    "            eigs,vecs = np.linalg.eig(sL)  \n",
    "            SfEig = np.sort(eigs)[1]\n",
    "            fEig = np.round(rL,6)\n",
    "            SfEig = np.round(SrL,6)\n",
    "\n",
    "            if fEig < SfEig:\n",
    "                incr += 1\n",
    "            if fEig == SfEig:\n",
    "                preserve += 1\n",
    "            if fEig > SfEig:\n",
    "                decr += 1\n",
    "        else:\n",
    "            total -= 1\n",
    "            \n",
    "    perPre = round(float(preserve)/(total),4)\n",
    "    perIncr = round(float(incr)/(total),4)\n",
    "    perDecr = round(float(decr)/(total),4)\n",
    "\n",
    "    print(\"{}\\t{}\\t\\t{}\\t{}\".format(n,perPre,perIncr,perDecr)) "
   ]
  },
  {
   "cell_type": "markdown",
   "metadata": {},
   "source": [
    "### Changes in the Fiedler Eigenvector"
   ]
  },
  {
   "cell_type": "code",
   "execution_count": null,
   "metadata": {},
   "outputs": [],
   "source": [
    "def splzTrackFiedler(A,Base):\n",
    "    \"\"\"\n",
    "    Function to compute the specialization of a graph and keep track of\n",
    "    Fiedler eigenvector. Base nodes and links between the base nodes \n",
    "    remain the same. The remaining nodes are specialized.\n",
    "    \n",
    "    Parameters\n",
    "    ----------\n",
    "    A (nxn ndarray): Adjacency matrix for a simple directed graph\n",
    "    Base (list): base nodes (not to be specialized) zero indexed\n",
    "    \n",
    "    Returns\n",
    "    -------\n",
    "    S (pxp ndarray): Specialized adjacency matrix\n",
    "    \n",
    "    \"\"\"\n",
    "    if np.diag(A).sum() != 0:\n",
    "        raise ValueError(\"Some vertices have self edges\")\n",
    "    \n",
    "    n = A.shape[0]\n",
    "    \n",
    "    #Initialize the dictionary to keep track of nodes\n",
    "    fiedler = dict()\n",
    "    for l in range(n):\n",
    "        fiedler[l] = []\n",
    "    \n",
    "    #Permute A so that the base nodes come first\n",
    "    A = baseFirst(A,Base)\n",
    "    bSize = len(Base)\n",
    "    \n",
    "    #Begin creating the block diagonal of specialized matrix\n",
    "    B = A[:bSize,:bSize]\n",
    "    diag = [B]\n",
    "    links = []\n",
    "    #Find connected components and compress graph\n",
    "    smA,comp = compressGraph(A,bSize)   \n",
    "    \n",
    "    #Find all paths from a base node to a base node\n",
    "    #through the connected components\n",
    "    pressedPaths = findPathsToBase(smA,bSize)\n",
    "\n",
    "    #For each compressed path find all combinations \n",
    "    #of nodes that pass through the associated components\n",
    "    nNodes = bSize\n",
    "    for Path in pressedPaths:\n",
    "        compnts = [comp[c] for c in Path]\n",
    "        paths = pathCombinations(A,compnts)\n",
    "        #Select all components not in the base node\n",
    "        compnToAdd = [A[c,:][:,c] for c in compnts[1:-1]]\n",
    "        for p in paths:\n",
    "            diag += compnToAdd\n",
    "            links += linkAdder(p,nNodes,compnts)\n",
    "            nNodes += sum(map(len,compnToAdd))\n",
    "            \n",
    "    S = block_diag(*diag)\n",
    "    for l in links: S[l] = 1\n",
    "    return S"
   ]
  }
 ],
 "metadata": {
  "kernelspec": {
   "display_name": "Python [anaconda]",
   "language": "python",
   "name": "Python [anaconda]"
  },
  "language_info": {
   "codemirror_mode": {
    "name": "ipython",
    "version": 2
   },
   "file_extension": ".py",
   "mimetype": "text/x-python",
   "name": "python",
   "nbconvert_exporter": "python",
   "pygments_lexer": "ipython2",
   "version": "2.7.14"
  }
 },
 "nbformat": 4,
 "nbformat_minor": 2
}
