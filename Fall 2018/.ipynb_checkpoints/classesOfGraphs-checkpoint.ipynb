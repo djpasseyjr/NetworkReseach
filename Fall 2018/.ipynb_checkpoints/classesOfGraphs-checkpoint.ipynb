{
 "cells": [
  {
   "cell_type": "code",
   "execution_count": 10,
   "metadata": {},
   "outputs": [],
   "source": [
    "import numpy as np\n",
    "from scipy import linalg as la\n",
    "from specializeGraph import *"
   ]
  },
  {
   "cell_type": "markdown",
   "metadata": {},
   "source": [
    "### Classes of specializations\n",
    "\n",
    "1. Graphs where the specialization has the same spectral radius\n",
    "2. Graphs with linearly independent eigenvectors\n",
    "3. Graphs where the specialization has linearly indep. eigenvectors\n",
    "4. Graphs where the eigenvalues are a subset of specialized graph spectrum\n",
    "\n",
    "CONCLUSION:\n",
    "None of these classes are a subset of any other class"
   ]
  },
  {
   "cell_type": "code",
   "execution_count": 116,
   "metadata": {},
   "outputs": [],
   "source": [
    "howMany = 3000\n",
    "n = 4\n",
    "class1 = []\n",
    "class2 = []\n",
    "class3 = []\n",
    "class4 = []\n",
    "\n",
    "for i in range(howMany):\n",
    "    G,base = randomGraph(4)\n",
    "    sG = specializeGraph(G,base)\n",
    "    rhoG = spectralRad(laplacian(G))\n",
    "    rhoSG = spectralRad(laplacian(sG))\n",
    "    sigmaG,Q = la.eig(laplacian(G))\n",
    "    sigmaSG,V = la.eig(laplacian(sG))\n",
    "    sigmaG = np.round(sigmaG,6)\n",
    "    sigmaSG = np.round(sigmaSG,6)\n",
    "    subSet = False\n",
    "    sig = list(sigmaG.copy())\n",
    "    sigS = list(sigmaSG.copy())\n",
    "    sub = True\n",
    "    for i in range(len(sig)):\n",
    "        \n",
    "        if sig[i] in sigS:\n",
    "            sigS.pop(sigS.index(sig[i]))\n",
    "        else:\n",
    "            sub = False\n",
    "            break  \n",
    "    \n",
    "    if G.size < sG.size:\n",
    "        \n",
    "        if np.isclose(rhoG,rhoSG):\n",
    "            class1.append((G,base))\n",
    "\n",
    "        if np.round(la.det(Q),15) != 0:\n",
    "            class2.append((G,base))\n",
    "\n",
    "        if np.round(la.det(V),15) != 0:\n",
    "            class3.append((G,base))\n",
    "\n",
    "        if sub:\n",
    "            class4.append((G,base))\n",
    "        "
   ]
  },
  {
   "cell_type": "code",
   "execution_count": 117,
   "metadata": {},
   "outputs": [
    {
     "name": "stdout",
     "output_type": "stream",
     "text": [
      "Stable: 281\n",
      "Lin Ind: 1505\n",
      "Lin Ind SP: 879\n",
      "Eig Sub: 235\n"
     ]
    }
   ],
   "source": [
    "print(\"Stable: {}\".format(len(class1)))\n",
    "print(\"Lin Ind: {}\".format(len(class2)))\n",
    "print(\"Lin Ind SP: {}\".format(len(class3)))\n",
    "print(\"Eig Sub: {}\".format(len(class4)))"
   ]
  },
  {
   "cell_type": "code",
   "execution_count": 118,
   "metadata": {},
   "outputs": [],
   "source": [
    "H = np.reshape(np.array([2, 3, 5, 7, 11, 13, 17, 19, 23, 29, 31, 37, 41, 43, 47, 53]),(4,4))\n",
    "h = np.array([59, 61, 67, 71])\n",
    "Hash1 = []\n",
    "Hash2 = []\n",
    "Hash3 = []\n",
    "Hash4 = []\n",
    "HASH = [Hash1,Hash2,Hash3,Hash4]\n",
    "CLASS = [class1,class2,class3,class4]\n",
    "for i in range(len(HASH)):\n",
    "    for j in range(len(CLASS[i])):\n",
    "        G,base = CLASS[i][j]\n",
    "        num = np.prod(H[G==1])*np.prod(h[base])\n",
    "        HASH[i].append(num)"
   ]
  },
  {
   "cell_type": "code",
   "execution_count": 119,
   "metadata": {},
   "outputs": [],
   "source": [
    "S1 = set(Hash1)\n",
    "S2 = set(Hash2)\n",
    "S3 = set(Hash3)\n",
    "S4 = set(Hash4)\n"
   ]
  },
  {
   "cell_type": "code",
   "execution_count": 120,
   "metadata": {},
   "outputs": [
    {
     "name": "stdout",
     "output_type": "stream",
     "text": [
      "Number in Class1 but not in Class2: 22\n",
      "Number in Class1 but not in Class3: 95\n",
      "Number in Class1 but not in Class4: 49\n",
      "\n",
      "\n",
      "Number in Class2 but not in Class1: 879\n",
      "Number in Class2 but not in Class3: 441\n",
      "Number in Class2 but not in Class4: 921\n",
      "\n",
      "\n",
      "Number in Class3 but not in Class1: 550\n",
      "Number in Class3 but not in Class2: 39\n",
      "Number in Class3 but not in Class4: 568\n",
      "\n",
      "\n",
      "Number in Class4 but not in Class1: 5\n",
      "Number in Class4 but not in Class2: 20\n",
      "Number in Class4 but not in Class3: 69\n"
     ]
    }
   ],
   "source": [
    "\n",
    "print(\"Number in Class1 but not in Class2: {}\".format(len(S1.difference(S2))))\n",
    "print(\"Number in Class1 but not in Class3: {}\".format(len(S1.difference(S3))))\n",
    "print(\"Number in Class1 but not in Class4: {}\".format(len(S1.difference(S4))))\n",
    "print(\"\\n\")\n",
    "print(\"Number in Class2 but not in Class1: {}\".format(len(S2.difference(S1))))\n",
    "print(\"Number in Class2 but not in Class3: {}\".format(len(S2.difference(S3))))\n",
    "print(\"Number in Class2 but not in Class4: {}\".format(len(S2.difference(S4))))\n",
    "print(\"\\n\")\n",
    "print(\"Number in Class3 but not in Class1: {}\".format(len(S3.difference(S1))))\n",
    "print(\"Number in Class3 but not in Class2: {}\".format(len(S3.difference(S2))))\n",
    "print(\"Number in Class3 but not in Class4: {}\".format(len(S3.difference(S4))))\n",
    "print(\"\\n\")\n",
    "print(\"Number in Class4 but not in Class1: {}\".format(len(S4.difference(S1))))\n",
    "print(\"Number in Class4 but not in Class2: {}\".format(len(S4.difference(S2))))\n",
    "print(\"Number in Class4 but not in Class3: {}\".format(len(S4.difference(S3))))"
   ]
  },
  {
   "cell_type": "markdown",
   "metadata": {},
   "source": [
    "### Classes of specializations\n",
    "\n",
    "1. Graphs where the specialization has the same spectral radius\n",
    "2. Graphs with linearly independent eigenvectors\n",
    "3. Graphs where the specialization has linearly indep. eigenvectors\n",
    "4. Graphs where the eigenvalues are a subset of specialized graph spectrum\n"
   ]
  },
  {
   "cell_type": "code",
   "execution_count": 122,
   "metadata": {},
   "outputs": [
    {
     "data": {
      "text/plain": [
       "(array([199]),)"
      ]
     },
     "execution_count": 122,
     "metadata": {},
     "output_type": "execute_result"
    }
   ],
   "source": [
    "np.where(np.array(Hash4)==list(S4.difference(S1))[0])"
   ]
  },
  {
   "cell_type": "code",
   "execution_count": 123,
   "metadata": {},
   "outputs": [
    {
     "name": "stdout",
     "output_type": "stream",
     "text": [
      "(3.0, 4.228328215946638)\n"
     ]
    }
   ],
   "source": [
    "G,base = class4[199]\n",
    "sG = specializeGraph(G,base)\n",
    "sG = specializeGraph(G,base)\n",
    "rhoG = spectralRad(laplacian(G))\n",
    "rhoSG = spectralRad(laplacian(sG))\n",
    "sigmaG,Q = la.eig(laplacian(G))\n",
    "sigmaSG,V = la.eig(laplacian(sG))\n",
    "sigmaG = np.round(sigmaG,14)\n",
    "sigmaSG = np.round(sigmaSG,14)\n",
    "print(rhoG,rhoSG)"
   ]
  },
  {
   "cell_type": "code",
   "execution_count": 124,
   "metadata": {},
   "outputs": [
    {
     "name": "stdout",
     "output_type": "stream",
     "text": [
      "(array([ 3.+0.j, -0.+0.j,  3.+0.j,  3.+0.j]), array([-0.        +0.j,  0.2253771 +0.j,  4.22832822+0.j,  3.36040934+0.j,\n",
      "        2.18588535+0.j,  0.38196601+0.j,  0.12061476+0.j,  3.53208889+0.j,\n",
      "        3.        +0.j,  2.34729636+0.j,  2.61803399+0.j,  3.        +0.j,\n",
      "        3.        +0.j]))\n"
     ]
    }
   ],
   "source": [
    "print(sigmaG,sigmaSG)"
   ]
  },
  {
   "cell_type": "code",
   "execution_count": null,
   "metadata": {},
   "outputs": [],
   "source": []
  }
 ],
 "metadata": {
  "kernelspec": {
   "display_name": "Python [anaconda]",
   "language": "python",
   "name": "Python [anaconda]"
  },
  "language_info": {
   "codemirror_mode": {
    "name": "ipython",
    "version": 2
   },
   "file_extension": ".py",
   "mimetype": "text/x-python",
   "name": "python",
   "nbconvert_exporter": "python",
   "pygments_lexer": "ipython2",
   "version": "2.7.14"
  }
 },
 "nbformat": 4,
 "nbformat_minor": 2
}
