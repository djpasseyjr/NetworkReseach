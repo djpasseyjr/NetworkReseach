{
 "cells": [
  {
   "cell_type": "code",
   "execution_count": 1,
   "metadata": {},
   "outputs": [],
   "source": [
    "import numpy as np\n",
    "from specializeGraph import *\n",
    "from scipy import linalg as la"
   ]
  },
  {
   "cell_type": "code",
   "execution_count": null,
   "metadata": {},
   "outputs": [],
   "source": []
  },
  {
   "cell_type": "markdown",
   "metadata": {},
   "source": [
    "### Adding 1 to Diagonal of laplacian of SCC\n",
    "We find that if we add 1 anywhere to the diagonal of a strongly connected laplacian, it becomes invertible. Amazing!"
   ]
  },
  {
   "cell_type": "code",
   "execution_count": 3,
   "metadata": {},
   "outputs": [],
   "source": [
    "howMany = 200\n",
    "n = 4\n",
    "for j in range(howMany):\n",
    "    G = randomGraph(n,base=0)\n",
    "    if nx.is_strongly_connected(nx.DiGraph(G)):\n",
    "        i = np.random.randint(0,n)\n",
    "        D = np.zeros((n,n))\n",
    "        D[i,i] = 1\n",
    "        if np.isclose(la.det(laplacian(G)+D),0):\n",
    "            drawGraph(G)\n",
    "            print(la.eig(laplacian(G))[1])"
   ]
  },
  {
   "cell_type": "markdown",
   "metadata": {},
   "source": [
    "Question: Is there a pattern to the inverse?"
   ]
  },
  {
   "cell_type": "markdown",
   "metadata": {},
   "source": [
    "### Find a graph where adding 1 to a diagonal decreases the spectrum"
   ]
  },
  {
   "cell_type": "code",
   "execution_count": 4,
   "metadata": {},
   "outputs": [],
   "source": [
    "def decrDiagLap(n):\n",
    "    for i in range(200):\n",
    "        G = randomGraph(n,stronglyCon=1,base=0)\n",
    "        L = laplacian(G)\n",
    "        r = spectralRad(L)\n",
    "        broken = False\n",
    "        for j in range(n):\n",
    "            D = np.zeros((n,n))\n",
    "            D[j,j] = 1\n",
    "            if spectralRad(L+D)<r:\n",
    "                broken = True\n",
    "                break\n",
    "        if broken:\n",
    "            break\n",
    "    return G,D\n",
    "    "
   ]
  },
  {
   "cell_type": "markdown",
   "metadata": {},
   "source": [
    "### Build graphs that we can specialize without problems\n",
    "If we build a graph with one SCC outside the base (also a SCC) and only one link from the base to the component, most of the time, the spectral radius doen't increase upon specialization."
   ]
  },
  {
   "cell_type": "code",
   "execution_count": 23,
   "metadata": {},
   "outputs": [
    {
     "name": "stdout",
     "output_type": "stream",
     "text": [
      "n\tPercent that are stable\n",
      "6\t0.984\n",
      "8\t0.995\n",
      "10\t0.978\n",
      "12\t0.989\n"
     ]
    }
   ],
   "source": [
    "howMany = 1000\n",
    "incr = 0\n",
    "print(\"n\\tPercent that are stable\")\n",
    "for n in range(3,7):\n",
    "    for i in range(howMany):\n",
    "        U,X = randomGraph(n,stronglyCon=1,base=0),np.zeros((n,n))\n",
    "        i = np.random.randint(0,n)\n",
    "        X[i,i] = 1\n",
    "        S,Y = randomGraph(n,stronglyCon=1,base=0),np.zeros((n,n))\n",
    "        i = np.random.randint(0,n)\n",
    "        Y[i,i] = 1\n",
    "        i = np.random.randint(0,n)\n",
    "        X[i,i] = 1\n",
    "\n",
    "        M = np.vstack((np.hstack((U,X)),np.hstack((Y,S))))\n",
    "        sM = specializeGraph(M,[0,1,2,3])\n",
    "        if spectralRad(laplacian(M)) <= spectralRad(laplacian(sM)) + 1e-8:\n",
    "            incr += 1\n",
    "    print(\"{}\\t{}\".format(2*n,float(incr)/howMany))\n",
    "    incr=0"
   ]
  },
  {
   "cell_type": "markdown",
   "metadata": {},
   "source": [
    "### Taking away from Diagonals\n",
    "After I've added to a diagonal, can I take from a diagonal and always derease the spectral radius?"
   ]
  },
  {
   "cell_type": "code",
   "execution_count": 36,
   "metadata": {},
   "outputs": [
    {
     "name": "stdout",
     "output_type": "stream",
     "text": [
      "Success\n"
     ]
    }
   ],
   "source": [
    "howMany = 1000\n",
    "n=6\n",
    "for k in range(howMany):\n",
    "    \n",
    "    S       = randomGraph(n,stronglyCon=1,base=0)\n",
    "    i,j     = np.random.randint(0,n,size=2)\n",
    "    D1      = np.zeros((n,n))\n",
    "    D2      = np.zeros((n,n))\n",
    "    D1[i,i] = 1\n",
    "    D2[j,j] = 1\n",
    "    rho     = spectralRad(laplacian(S+D1+D2))\n",
    "\n",
    "    if spectralRad(laplacian(S+D1)) >= rho + 1e-8:\n",
    "        print(\"D1 i = {}\".format(k))\n",
    "        break\n",
    "\n",
    "    if spectralRad(laplacian(S+D2)) >= rho + 1e-8:\n",
    "        print(\"D2 i = {}\".format(k))\n",
    "        break\n",
    "        \n",
    "    if k == 998:\n",
    "        print(\"Success\")\n"
   ]
  },
  {
   "cell_type": "markdown",
   "metadata": {},
   "source": [
    "It seems like you can"
   ]
  },
  {
   "cell_type": "code",
   "execution_count": null,
   "metadata": {},
   "outputs": [],
   "source": []
  }
 ],
 "metadata": {
  "kernelspec": {
   "display_name": "Python [anaconda]",
   "language": "python",
   "name": "Python [anaconda]"
  },
  "language_info": {
   "codemirror_mode": {
    "name": "ipython",
    "version": 2
   },
   "file_extension": ".py",
   "mimetype": "text/x-python",
   "name": "python",
   "nbconvert_exporter": "python",
   "pygments_lexer": "ipython2",
   "version": "2.7.14"
  }
 },
 "nbformat": 4,
 "nbformat_minor": 2
}
